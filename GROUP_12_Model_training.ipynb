{
 "cells": [
  {
   "cell_type": "markdown",
   "metadata": {},
   "source": [
    "## Group 12\n",
    "\n",
    "Rita Palma 20240661 <br>\n",
    "Santiago Taylor 20240542 <br>\n",
    "Martim Tavares 20240508 <br>\n",
    "Maria Inês Assunção 20211605 <br>"
   ]
  },
  {
   "cell_type": "markdown",
   "metadata": {
    "id": "SH4hf76jEd1n"
   },
   "source": [
    "# Library imports"
   ]
  },
  {
   "cell_type": "code",
   "execution_count": null,
   "metadata": {
    "colab": {
     "base_uri": "https://localhost:8080/"
    },
    "collapsed": true,
    "id": "bJNsAg7pTpor",
    "outputId": "bb165080-9ed7-4a60-9c94-36b85b6a12ae"
   },
   "outputs": [
    {
     "name": "stdout",
     "output_type": "stream",
     "text": [
      "Collecting keras_tuner\n",
      "  Downloading keras_tuner-1.4.7-py3-none-any.whl.metadata (5.4 kB)\n",
      "Requirement already satisfied: keras in /usr/local/lib/python3.11/dist-packages (from keras_tuner) (3.8.0)\n",
      "Requirement already satisfied: packaging in /usr/local/lib/python3.11/dist-packages (from keras_tuner) (24.2)\n",
      "Requirement already satisfied: requests in /usr/local/lib/python3.11/dist-packages (from keras_tuner) (2.32.3)\n",
      "Collecting kt-legacy (from keras_tuner)\n",
      "  Downloading kt_legacy-1.0.5-py3-none-any.whl.metadata (221 bytes)\n",
      "Requirement already satisfied: absl-py in /usr/local/lib/python3.11/dist-packages (from keras->keras_tuner) (1.4.0)\n",
      "Requirement already satisfied: numpy in /usr/local/lib/python3.11/dist-packages (from keras->keras_tuner) (2.0.2)\n",
      "Requirement already satisfied: rich in /usr/local/lib/python3.11/dist-packages (from keras->keras_tuner) (13.9.4)\n",
      "Requirement already satisfied: namex in /usr/local/lib/python3.11/dist-packages (from keras->keras_tuner) (0.0.9)\n",
      "Requirement already satisfied: h5py in /usr/local/lib/python3.11/dist-packages (from keras->keras_tuner) (3.13.0)\n",
      "Requirement already satisfied: optree in /usr/local/lib/python3.11/dist-packages (from keras->keras_tuner) (0.15.0)\n",
      "Requirement already satisfied: ml-dtypes in /usr/local/lib/python3.11/dist-packages (from keras->keras_tuner) (0.4.1)\n",
      "Requirement already satisfied: charset-normalizer<4,>=2 in /usr/local/lib/python3.11/dist-packages (from requests->keras_tuner) (3.4.1)\n",
      "Requirement already satisfied: idna<4,>=2.5 in /usr/local/lib/python3.11/dist-packages (from requests->keras_tuner) (3.10)\n",
      "Requirement already satisfied: urllib3<3,>=1.21.1 in /usr/local/lib/python3.11/dist-packages (from requests->keras_tuner) (2.4.0)\n",
      "Requirement already satisfied: certifi>=2017.4.17 in /usr/local/lib/python3.11/dist-packages (from requests->keras_tuner) (2025.1.31)\n",
      "Requirement already satisfied: typing-extensions>=4.5.0 in /usr/local/lib/python3.11/dist-packages (from optree->keras->keras_tuner) (4.13.2)\n",
      "Requirement already satisfied: markdown-it-py>=2.2.0 in /usr/local/lib/python3.11/dist-packages (from rich->keras->keras_tuner) (3.0.0)\n",
      "Requirement already satisfied: pygments<3.0.0,>=2.13.0 in /usr/local/lib/python3.11/dist-packages (from rich->keras->keras_tuner) (2.19.1)\n",
      "Requirement already satisfied: mdurl~=0.1 in /usr/local/lib/python3.11/dist-packages (from markdown-it-py>=2.2.0->rich->keras->keras_tuner) (0.1.2)\n",
      "Downloading keras_tuner-1.4.7-py3-none-any.whl (129 kB)\n",
      "\u001b[2K   \u001b[90m━━━━━━━━━━━━━━━━━━━━━━━━━━━━━━━━━━━━━━━━\u001b[0m \u001b[32m129.1/129.1 kB\u001b[0m \u001b[31m5.3 MB/s\u001b[0m eta \u001b[36m0:00:00\u001b[0m\n",
      "\u001b[?25hDownloading kt_legacy-1.0.5-py3-none-any.whl (9.6 kB)\n",
      "Installing collected packages: kt-legacy, keras_tuner\n",
      "Successfully installed keras_tuner-1.4.7 kt-legacy-1.0.5\n",
      "Collecting keras_cv\n",
      "  Downloading keras_cv-0.9.0-py3-none-any.whl.metadata (12 kB)\n",
      "Requirement already satisfied: packaging in /usr/local/lib/python3.11/dist-packages (from keras_cv) (24.2)\n",
      "Requirement already satisfied: absl-py in /usr/local/lib/python3.11/dist-packages (from keras_cv) (1.4.0)\n",
      "Requirement already satisfied: regex in /usr/local/lib/python3.11/dist-packages (from keras_cv) (2024.11.6)\n",
      "Requirement already satisfied: tensorflow-datasets in /usr/local/lib/python3.11/dist-packages (from keras_cv) (4.9.8)\n",
      "Collecting keras-core (from keras_cv)\n",
      "  Downloading keras_core-0.1.7-py3-none-any.whl.metadata (4.3 kB)\n",
      "Requirement already satisfied: kagglehub in /usr/local/lib/python3.11/dist-packages (from keras_cv) (0.3.12)\n",
      "Requirement already satisfied: pyyaml in /usr/local/lib/python3.11/dist-packages (from kagglehub->keras_cv) (6.0.2)\n",
      "Requirement already satisfied: requests in /usr/local/lib/python3.11/dist-packages (from kagglehub->keras_cv) (2.32.3)\n",
      "Requirement already satisfied: tqdm in /usr/local/lib/python3.11/dist-packages (from kagglehub->keras_cv) (4.67.1)\n",
      "Requirement already satisfied: numpy in /usr/local/lib/python3.11/dist-packages (from keras-core->keras_cv) (2.0.2)\n",
      "Requirement already satisfied: rich in /usr/local/lib/python3.11/dist-packages (from keras-core->keras_cv) (13.9.4)\n",
      "Requirement already satisfied: namex in /usr/local/lib/python3.11/dist-packages (from keras-core->keras_cv) (0.0.9)\n",
      "Requirement already satisfied: h5py in /usr/local/lib/python3.11/dist-packages (from keras-core->keras_cv) (3.13.0)\n",
      "Requirement already satisfied: dm-tree in /usr/local/lib/python3.11/dist-packages (from keras-core->keras_cv) (0.1.9)\n",
      "Requirement already satisfied: array_record>=0.5.0 in /usr/local/lib/python3.11/dist-packages (from tensorflow-datasets->keras_cv) (0.7.1)\n",
      "Requirement already satisfied: etils>=1.9.1 in /usr/local/lib/python3.11/dist-packages (from etils[edc,enp,epath,epy,etree]>=1.9.1; python_version >= \"3.11\"->tensorflow-datasets->keras_cv) (1.12.2)\n",
      "Requirement already satisfied: immutabledict in /usr/local/lib/python3.11/dist-packages (from tensorflow-datasets->keras_cv) (4.2.1)\n",
      "Requirement already satisfied: promise in /usr/local/lib/python3.11/dist-packages (from tensorflow-datasets->keras_cv) (2.3)\n",
      "Requirement already satisfied: protobuf>=3.20 in /usr/local/lib/python3.11/dist-packages (from tensorflow-datasets->keras_cv) (5.29.4)\n",
      "Requirement already satisfied: psutil in /usr/local/lib/python3.11/dist-packages (from tensorflow-datasets->keras_cv) (5.9.5)\n",
      "Requirement already satisfied: pyarrow in /usr/local/lib/python3.11/dist-packages (from tensorflow-datasets->keras_cv) (18.1.0)\n",
      "Requirement already satisfied: simple_parsing in /usr/local/lib/python3.11/dist-packages (from tensorflow-datasets->keras_cv) (0.1.7)\n",
      "Requirement already satisfied: tensorflow-metadata in /usr/local/lib/python3.11/dist-packages (from tensorflow-datasets->keras_cv) (1.17.1)\n",
      "Requirement already satisfied: termcolor in /usr/local/lib/python3.11/dist-packages (from tensorflow-datasets->keras_cv) (3.0.1)\n",
      "Requirement already satisfied: toml in /usr/local/lib/python3.11/dist-packages (from tensorflow-datasets->keras_cv) (0.10.2)\n",
      "Requirement already satisfied: wrapt in /usr/local/lib/python3.11/dist-packages (from tensorflow-datasets->keras_cv) (1.17.2)\n",
      "Requirement already satisfied: einops in /usr/local/lib/python3.11/dist-packages (from etils[edc,enp,epath,epy,etree]>=1.9.1; python_version >= \"3.11\"->tensorflow-datasets->keras_cv) (0.8.1)\n",
      "Requirement already satisfied: fsspec in /usr/local/lib/python3.11/dist-packages (from etils[edc,enp,epath,epy,etree]>=1.9.1; python_version >= \"3.11\"->tensorflow-datasets->keras_cv) (2025.3.2)\n",
      "Requirement already satisfied: importlib_resources in /usr/local/lib/python3.11/dist-packages (from etils[edc,enp,epath,epy,etree]>=1.9.1; python_version >= \"3.11\"->tensorflow-datasets->keras_cv) (6.5.2)\n",
      "Requirement already satisfied: typing_extensions in /usr/local/lib/python3.11/dist-packages (from etils[edc,enp,epath,epy,etree]>=1.9.1; python_version >= \"3.11\"->tensorflow-datasets->keras_cv) (4.13.2)\n",
      "Requirement already satisfied: zipp in /usr/local/lib/python3.11/dist-packages (from etils[edc,enp,epath,epy,etree]>=1.9.1; python_version >= \"3.11\"->tensorflow-datasets->keras_cv) (3.21.0)\n",
      "Requirement already satisfied: charset-normalizer<4,>=2 in /usr/local/lib/python3.11/dist-packages (from requests->kagglehub->keras_cv) (3.4.1)\n",
      "Requirement already satisfied: idna<4,>=2.5 in /usr/local/lib/python3.11/dist-packages (from requests->kagglehub->keras_cv) (3.10)\n",
      "Requirement already satisfied: urllib3<3,>=1.21.1 in /usr/local/lib/python3.11/dist-packages (from requests->kagglehub->keras_cv) (2.4.0)\n",
      "Requirement already satisfied: certifi>=2017.4.17 in /usr/local/lib/python3.11/dist-packages (from requests->kagglehub->keras_cv) (2025.1.31)\n",
      "Requirement already satisfied: attrs>=18.2.0 in /usr/local/lib/python3.11/dist-packages (from dm-tree->keras-core->keras_cv) (25.3.0)\n",
      "Requirement already satisfied: six in /usr/local/lib/python3.11/dist-packages (from promise->tensorflow-datasets->keras_cv) (1.17.0)\n",
      "Requirement already satisfied: markdown-it-py>=2.2.0 in /usr/local/lib/python3.11/dist-packages (from rich->keras-core->keras_cv) (3.0.0)\n",
      "Requirement already satisfied: pygments<3.0.0,>=2.13.0 in /usr/local/lib/python3.11/dist-packages (from rich->keras-core->keras_cv) (2.19.1)\n",
      "Requirement already satisfied: docstring-parser<1.0,>=0.15 in /usr/local/lib/python3.11/dist-packages (from simple_parsing->tensorflow-datasets->keras_cv) (0.16)\n",
      "Requirement already satisfied: googleapis-common-protos<2,>=1.56.4 in /usr/local/lib/python3.11/dist-packages (from tensorflow-metadata->tensorflow-datasets->keras_cv) (1.70.0)\n",
      "Requirement already satisfied: mdurl~=0.1 in /usr/local/lib/python3.11/dist-packages (from markdown-it-py>=2.2.0->rich->keras-core->keras_cv) (0.1.2)\n",
      "Downloading keras_cv-0.9.0-py3-none-any.whl (650 kB)\n",
      "\u001b[2K   \u001b[90m━━━━━━━━━━━━━━━━━━━━━━━━━━━━━━━━━━━━━━━━\u001b[0m \u001b[32m650.7/650.7 kB\u001b[0m \u001b[31m36.1 MB/s\u001b[0m eta \u001b[36m0:00:00\u001b[0m\n",
      "\u001b[?25hDownloading keras_core-0.1.7-py3-none-any.whl (950 kB)\n",
      "\u001b[2K   \u001b[90m━━━━━━━━━━━━━━━━━━━━━━━━━━━━━━━━━━━━━━━━\u001b[0m \u001b[32m950.8/950.8 kB\u001b[0m \u001b[31m49.8 MB/s\u001b[0m eta \u001b[36m0:00:00\u001b[0m\n",
      "\u001b[?25hInstalling collected packages: keras-core, keras_cv\n",
      "Successfully installed keras-core-0.1.7 keras_cv-0.9.0\n"
     ]
    }
   ],
   "source": [
    "!pip install keras_tuner\n",
    "!pip install keras_cv"
   ]
  },
  {
   "cell_type": "code",
   "execution_count": null,
   "metadata": {
    "id": "skLhsaIEWq6B"
   },
   "outputs": [],
   "source": [
    "# python standard library imports\n",
    "from typing import Self, Any\n",
    "from pathlib import Path\n",
    "from PIL import Image\n",
    "import pandas as pd\n",
    "import numpy as np\n",
    "from sklearn.model_selection import train_test_split\n",
    "import shutil\n",
    "import os\n",
    "from tqdm import tqdm\n",
    "\n",
    "\n",
    "# plots and graphs\n",
    "import matplotlib.pyplot as plt\n",
    "import seaborn as sns\n",
    "\n",
    "from keras.utils import image_dataset_from_directory\n",
    "from sklearn.utils import class_weight, resample\n",
    "from tensorflow.keras import regularizers\n",
    "from tensorflow.keras import layers, models\n",
    "\n",
    "# augmentation operations\n",
    "from keras.layers import Rescaling, RandomBrightness, RandomFlip, RandomRotation, RandomZoom, RandAugment, RandomGrayscale, RandomSharpness\n",
    "from keras_cv.layers import RandomGaussianBlur, RandomCutout, AugMix\n",
    "from keras.layers import Pipeline\n",
    "\n",
    "# model building imports\n",
    "from keras import Model, Sequential, Input\n",
    "from tensorflow.keras.applications import ResNet50, EfficientNetB3\n",
    "from keras.layers import Conv2D, MaxPooling2D, Flatten, Dropout, Dense, BatchNormalization, LeakyReLU, GlobalAveragePooling2D\n",
    "from keras.ops import add\n",
    "from tensorflow.keras.optimizers import Adam\n",
    "from sklearn.utils.class_weight import compute_class_weight\n",
    "\n",
    "# model training imports\n",
    "from keras.optimizers import SGD\n",
    "from keras.losses import CategoricalCrossentropy\n",
    "from keras.metrics import CategoricalAccuracy, AUC, F1Score\n",
    "from keras.callbacks import LearningRateScheduler, CSVLogger, EarlyStopping, ReduceLROnPlateau\n",
    "from tensorflow.keras.callbacks import ModelCheckpoint\n",
    "import keras_tuner as kt\n",
    "import tensorflow as tf\n",
    "import keras_cv"
   ]
  },
  {
   "cell_type": "code",
   "execution_count": null,
   "metadata": {
    "colab": {
     "base_uri": "https://localhost:8080/"
    },
    "id": "xmHlvcXuSlzK",
    "outputId": "faa11c3b-3d96-4eb3-b2f7-df4f048f25c3"
   },
   "outputs": [
    {
     "name": "stdout",
     "output_type": "stream",
     "text": [
      "Mounted at /content/drive\n"
     ]
    }
   ],
   "source": [
    "from google.colab import drive\n",
    "drive.mount('/content/drive')"
   ]
  },
  {
   "cell_type": "code",
   "execution_count": null,
   "metadata": {
    "id": "obl16Rv-rFtC"
   },
   "outputs": [],
   "source": [
    "root_dir_path = Path(\"/content/drive/My Drive/DL_project/DL_project\")"
   ]
  },
  {
   "cell_type": "code",
   "execution_count": null,
   "metadata": {
    "id": "f0wHp7g8Ed1s"
   },
   "outputs": [],
   "source": [
    "df = pd.read_csv(root_dir_path / \"rare_species/metadata.csv\")"
   ]
  },
  {
   "cell_type": "markdown",
   "metadata": {
    "id": "tgNDLyJWEd1x"
   },
   "source": [
    "# Load Data"
   ]
  },
  {
   "cell_type": "code",
   "execution_count": null,
   "metadata": {
    "id": "trWtDZl0Ed1x"
   },
   "outputs": [],
   "source": [
    "data_dir_path = root_dir_path / \"data\"\n",
    "\n",
    "train_dir_path = data_dir_path / \"train\"\n",
    "val_dir_path = data_dir_path / \"val\"\n",
    "test_dir_path = data_dir_path / \"test\""
   ]
  },
  {
   "cell_type": "code",
   "execution_count": null,
   "metadata": {
    "id": "4qm1GplvEd1y"
   },
   "outputs": [],
   "source": [
    "n_classes = 202\n",
    "batch_size = 64\n",
    "input_shape = (224, 224, 3)\n",
    "image_size = (224, 224)\n",
    "value_range = (0.0, 1.0)"
   ]
  },
  {
   "cell_type": "code",
   "execution_count": null,
   "metadata": {
    "id": "3-p7wciHEd1y"
   },
   "outputs": [],
   "source": [
    "train_ds = image_dataset_from_directory(\n",
    "    train_dir_path,\n",
    "    label_mode=\"categorical\",\n",
    "    batch_size=batch_size,\n",
    "    image_size=image_size,\n",
    "    interpolation=\"bilinear\",\n",
    "    verbose=False\n",
    ")"
   ]
  },
  {
   "cell_type": "code",
   "execution_count": null,
   "metadata": {
    "id": "9ZFpejCmEd1y"
   },
   "outputs": [],
   "source": [
    "val_ds = image_dataset_from_directory(\n",
    "    val_dir_path,\n",
    "    label_mode=\"categorical\",\n",
    "    batch_size=batch_size,\n",
    "    image_size=image_size,\n",
    "    interpolation=\"bilinear\",\n",
    "    shuffle=False,\n",
    "    verbose=False\n",
    ")"
   ]
  },
  {
   "cell_type": "code",
   "execution_count": null,
   "metadata": {
    "id": "9whVKWEmEd1y"
   },
   "outputs": [],
   "source": [
    "test_ds = image_dataset_from_directory(\n",
    "    test_dir_path,\n",
    "    label_mode=\"categorical\",\n",
    "    batch_size=batch_size,\n",
    "    image_size=image_size,\n",
    "    interpolation=\"bilinear\",\n",
    "    shuffle=False,\n",
    "    verbose=False\n",
    ")"
   ]
  },
  {
   "cell_type": "markdown",
   "metadata": {
    "id": "8gjEifDINxKW"
   },
   "source": [
    "# Normalizing Images\n"
   ]
  },
  {
   "cell_type": "code",
   "execution_count": null,
   "metadata": {
    "id": "JQ4dQl49N3zz"
   },
   "outputs": [],
   "source": [
    "# Normalize pixel valuse to the range [0, 1]\n",
    "rescaler =  Rescaling(scale=1 / 255.0)\n",
    "\n",
    "train_ds = train_ds.map(lambda x, y: (rescaler(x), y))\n",
    "val_ds = val_ds.map(lambda x, y: (rescaler(x), y))\n",
    "test_ds = test_ds.map(lambda x, y: (rescaler(x), y))"
   ]
  },
  {
   "cell_type": "markdown",
   "metadata": {
    "id": "sd-p8bWoEd1z"
   },
   "source": [
    "# Data Preprocessing"
   ]
  },
  {
   "cell_type": "code",
   "execution_count": null,
   "metadata": {
    "colab": {
     "base_uri": "https://localhost:8080/"
    },
    "id": "hMV7Yb9IEd12",
    "outputId": "d951f0f9-f7b1-4177-da1b-d35a7e4c3191"
   },
   "outputs": [
    {
     "name": "stdout",
     "output_type": "stream",
     "text": [
      "Using 6712 files for training.\n"
     ]
    }
   ],
   "source": [
    "# take a sample of training to improve generalization\n",
    "train_ds_sample = image_dataset_from_directory(\n",
    "    train_dir_path,\n",
    "    label_mode=\"categorical\",\n",
    "    batch_size=batch_size,\n",
    "    image_size=image_size,\n",
    "    interpolation=\"bilinear\",\n",
    "    # doing this to only use 80% of our data\n",
    "    validation_split=0.2,\n",
    "    subset=\"training\",\n",
    "    seed=123,\n",
    "    verbose=False\n",
    ")\n"
   ]
  },
  {
   "cell_type": "code",
   "execution_count": null,
   "metadata": {
    "id": "ha5O0SJU7rnU"
   },
   "outputs": [],
   "source": [
    "train_ds_sample = train_ds_sample.map(lambda x, y: (rescaler(x), y))"
   ]
  },
  {
   "cell_type": "markdown",
   "metadata": {
    "id": "E2_aeczkQWWQ"
   },
   "source": [
    "### Apply augmentations"
   ]
  },
  {
   "cell_type": "code",
   "execution_count": null,
   "metadata": {
    "id": "2H93_X07Q3wX"
   },
   "outputs": [],
   "source": [
    "# combo 1 - best augmentation approach -> BRIGHTNESS + FLIP + ZOOM + CUTOUT\n",
    "augmentation_combination_1 = Pipeline(\n",
    "    [\n",
    "        RandomBrightness(factor=0.2, value_range=value_range),\n",
    "        RandomFlip(mode=\"horizontal\"),\n",
    "        RandomZoom(height_factor=(0.0, 0.3), width_factor=(0.0, 0.3)),\n",
    "        RandomCutout(height_factor=0.5, width_factor=0.5),\n",
    "    ],\n",
    "    name=\"Brightness-Flip-Zoom-Cutout\"\n",
    ")"
   ]
  },
  {
   "cell_type": "code",
   "execution_count": null,
   "metadata": {
    "id": "bD9JbAuASSYE"
   },
   "outputs": [],
   "source": [
    "# combo 2 - best augmentation approach -> CUTOUT + GRAYSCALE + FLIP + BLUR\n",
    "'''augmentation_combination_2 = Pipeline(\n",
    "    [\n",
    "        RandomCutout(height_factor=0.5, width_factor=0.5),\n",
    "        RandomGrayscale(factor=0.5),\n",
    "        RandomFlip(mode=\"horizontal\"),\n",
    "        RandomGaussianBlur(factor=0.7, kernel_size=3),\n",
    "    ],\n",
    "    name=\"Cutout-Grayscale-Flip-Blur\"\n",
    ")'''"
   ]
  },
  {
   "cell_type": "code",
   "execution_count": null,
   "metadata": {
    "id": "CH3Mju_ORGpQ"
   },
   "outputs": [],
   "source": [
    "# applying combo 1 transformation to images\n",
    "train_ds_sample_aug = train_ds_sample.map(lambda x, y: (augmentation_combination_1(x, training= True), y))"
   ]
  },
  {
   "cell_type": "code",
   "execution_count": null,
   "metadata": {
    "id": "b7vDL5lySzMO"
   },
   "outputs": [],
   "source": [
    "# applying combo 2 transformation to images\n",
    "# train_ds_sample_aug_2 = train_ds_sample.map(lambda x, y: (augmentation_combination_2(x, training= True), y))"
   ]
  },
  {
   "cell_type": "markdown",
   "metadata": {
    "id": "jjPZkLoqRc2I"
   },
   "source": [
    "<div class=\"alert alert-block alert-info\"> \n",
    "\n",
    "#  MODELING \n",
    "</div>"
   ]
  },
  {
   "cell_type": "markdown",
   "metadata": {
    "id": "Far3rHMZn7kv"
   },
   "source": [
    "<div class=\"alert alert-block alert-info\"> \n",
    "\n",
    "# DESIGNED MODELS\n",
    "\n",
    "</div>"
   ]
  },
  {
   "cell_type": "markdown",
   "metadata": {
    "id": "l-9iZ9gznUGN"
   },
   "source": [
    "# BASIC CNN"
   ]
  },
  {
   "cell_type": "code",
   "execution_count": null,
   "metadata": {
    "colab": {
     "base_uri": "https://localhost:8080/"
    },
    "id": "RHGu2zpERaME",
    "outputId": "2023bd7e-5853-4280-d614-bcb4d494571b"
   },
   "outputs": [
    {
     "name": "stdout",
     "output_type": "stream",
     "text": [
      "Epoch 1/10\n",
      "\u001b[1m105/105\u001b[0m \u001b[32m━━━━━━━━━━━━━━━━━━━━\u001b[0m\u001b[37m\u001b[0m \u001b[1m3726s\u001b[0m 35s/step - accuracy: 0.0133 - auc: 0.5070 - f1_score: 0.0078 - loss: 48.5436 - val_accuracy: 0.0095 - val_auc: 0.5041 - val_f1_score: 0.0026 - val_loss: 39.5658\n",
      "Epoch 2/10\n",
      "\u001b[1m105/105\u001b[0m \u001b[32m━━━━━━━━━━━━━━━━━━━━\u001b[0m\u001b[37m\u001b[0m \u001b[1m204s\u001b[0m 2s/step - accuracy: 0.0160 - auc: 0.5084 - f1_score: 0.0108 - loss: 57.3999 - val_accuracy: 0.0050 - val_auc: 0.5033 - val_f1_score: 6.1721e-04 - val_loss: 66.6731\n",
      "Epoch 3/10\n",
      "\u001b[1m105/105\u001b[0m \u001b[32m━━━━━━━━━━━━━━━━━━━━\u001b[0m\u001b[37m\u001b[0m \u001b[1m259s\u001b[0m 2s/step - accuracy: 0.0240 - auc: 0.5149 - f1_score: 0.0166 - loss: 43.1412 - val_accuracy: 0.0111 - val_auc: 0.5034 - val_f1_score: 2.3054e-04 - val_loss: 93.3734\n",
      "Epoch 4/10\n",
      "\u001b[1m105/105\u001b[0m \u001b[32m━━━━━━━━━━━━━━━━━━━━\u001b[0m\u001b[37m\u001b[0m \u001b[1m188s\u001b[0m 2s/step - accuracy: 0.0306 - auc: 0.5245 - f1_score: 0.0222 - loss: 30.9202 - val_accuracy: 0.0056 - val_auc: 0.5025 - val_f1_score: 0.0020 - val_loss: 59.6430\n",
      "Epoch 5/10\n",
      "\u001b[1m105/105\u001b[0m \u001b[32m━━━━━━━━━━━━━━━━━━━━\u001b[0m\u001b[37m\u001b[0m \u001b[1m197s\u001b[0m 2s/step - accuracy: 0.0437 - auc: 0.5373 - f1_score: 0.0360 - loss: 19.4946 - val_accuracy: 0.0028 - val_auc: 0.4975 - val_f1_score: 1.4060e-04 - val_loss: 52.7811\n",
      "Epoch 6/10\n",
      "\u001b[1m105/105\u001b[0m \u001b[32m━━━━━━━━━━━━━━━━━━━━\u001b[0m\u001b[37m\u001b[0m \u001b[1m183s\u001b[0m 2s/step - accuracy: 0.0494 - auc: 0.5662 - f1_score: 0.0451 - loss: 11.5440 - val_accuracy: 0.0056 - val_auc: 0.5008 - val_f1_score: 9.0808e-04 - val_loss: 33.4065\n",
      "Epoch 7/10\n",
      "\u001b[1m105/105\u001b[0m \u001b[32m━━━━━━━━━━━━━━━━━━━━\u001b[0m\u001b[37m\u001b[0m \u001b[1m218s\u001b[0m 2s/step - accuracy: 0.0515 - auc: 0.6064 - f1_score: 0.0445 - loss: 7.8214 - val_accuracy: 0.0072 - val_auc: 0.5044 - val_f1_score: 0.0022 - val_loss: 20.7592\n",
      "Epoch 8/10\n",
      "\u001b[1m105/105\u001b[0m \u001b[32m━━━━━━━━━━━━━━━━━━━━\u001b[0m\u001b[37m\u001b[0m \u001b[1m183s\u001b[0m 2s/step - accuracy: 0.0671 - auc: 0.6525 - f1_score: 0.0572 - loss: 6.2774 - val_accuracy: 0.0128 - val_auc: 0.5156 - val_f1_score: 0.0018 - val_loss: 16.1986\n",
      "Epoch 9/10\n",
      "\u001b[1m105/105\u001b[0m \u001b[32m━━━━━━━━━━━━━━━━━━━━\u001b[0m\u001b[37m\u001b[0m \u001b[1m202s\u001b[0m 2s/step - accuracy: 0.0764 - auc: 0.6787 - f1_score: 0.0711 - loss: 5.6231 - val_accuracy: 0.0223 - val_auc: 0.5272 - val_f1_score: 0.0024 - val_loss: 11.8524\n",
      "Epoch 10/10\n",
      "\u001b[1m105/105\u001b[0m \u001b[32m━━━━━━━━━━━━━━━━━━━━\u001b[0m\u001b[37m\u001b[0m \u001b[1m194s\u001b[0m 2s/step - accuracy: 0.0952 - auc: 0.7106 - f1_score: 0.0976 - loss: 5.2922 - val_accuracy: 0.0173 - val_auc: 0.5581 - val_f1_score: 0.0022 - val_loss: 7.7948\n",
      "Test loss: 7.771693706512451, Test accuracy: 0.016685206443071365\n"
     ]
    }
   ],
   "source": [
    "# build model\n",
    "\n",
    "model = Sequential(\n",
    "    layers = [\n",
    "        Input(shape=input_shape),\n",
    "\n",
    "        # block 1\n",
    "        Conv2D(filters=3 * 8, kernel_size=(3, 3), activation=\"relu\",\n",
    "            kernel_regularizer=regularizers.l2(0.01)),\n",
    "        BatchNormalization(),\n",
    "        MaxPooling2D(pool_size=(2, 2)),\n",
    "\n",
    "        # block 2\n",
    "        Conv2D(filters=3 * 16, kernel_size=(3, 3), activation=\"relu\",\n",
    "            kernel_regularizer=regularizers.l2(0.01)),\n",
    "        BatchNormalization(),\n",
    "        MaxPooling2D(pool_size=(2, 2)),\n",
    "\n",
    "        # finish and dropout\n",
    "        Flatten(),\n",
    "        Dropout(0.5),\n",
    "        Dense(n_classes, activation=\"softmax\")\n",
    "    ],\n",
    "    name=\"model_1\"\n",
    ")\n",
    "\n",
    "# compiling the model\n",
    "optimizer = tf.keras.optimizers.Adam(learning_rate=0.001)\n",
    "loss = CategoricalCrossentropy(name=\"loss\")\n",
    "\n",
    "# metrics\n",
    "categorical_accuracy = CategoricalAccuracy(name=\"accuracy\")\n",
    "auc = AUC(name=\"auc\")\n",
    "f1_score = F1Score(average=\"macro\", name=\"f1_score\")\n",
    "metrics = [categorical_accuracy, auc, f1_score]\n",
    "\n",
    "model.compile(loss=loss, optimizer=optimizer, metrics=metrics)\n",
    "\n",
    "epochs = 10\n",
    "\n",
    "history = model.fit(\n",
    "    train_ds_sample_aug,\n",
    "    validation_data=val_ds,\n",
    "    epochs=epochs,\n",
    "    verbose=1\n",
    ")\n",
    "\n",
    "eval_results = model.evaluate(test_ds, return_dict=True, verbose=0)\n",
    "print(f\"Test loss: {eval_results['loss']}, Test accuracy: {eval_results['accuracy']}\")"
   ]
  },
  {
   "cell_type": "markdown",
   "metadata": {
    "id": "4VH1HFlooAFA"
   },
   "source": [
    "# PARALLEL CNN"
   ]
  },
  {
   "cell_type": "code",
   "execution_count": null,
   "metadata": {
    "id": "2Ms8R9rxmQT3"
   },
   "outputs": [],
   "source": [
    "def exp_decay_lr_scheduler(epoch: int, current_lr: float, factor: float = 0.95) -> float:\n",
    "    \"\"\"\n",
    "    Exponential decay learning rate scheduler\n",
    "    \"\"\"\n",
    "    current_lr *= factor\n",
    "    return current_lr"
   ]
  },
  {
   "cell_type": "code",
   "execution_count": null,
   "metadata": {
    "id": "NYLMQnn3syVU"
   },
   "outputs": [],
   "source": [
    "def model_parallel_conv():\n",
    "\n",
    "    conv_layer_1 = Conv2D(filters=3 * 8, kernel_size=(3, 3), activation=\"relu\")\n",
    "    max_pool_layer_1 = MaxPooling2D(pool_size=(2, 2))\n",
    "\n",
    "    # parallel convolutional layers\n",
    "    conv_layer_2l = Conv2D(filters=3 * 16, kernel_size=(3, 3), activation=\"relu\", padding=\"same\")\n",
    "    conv_layer_2r = Conv2D(filters=3 * 16, kernel_size=(3, 3), activation=\"relu\", padding=\"same\")\n",
    "\n",
    "    act_layer_2 = LeakyReLU(negative_slope=0.3)\n",
    "    max_pool_layer_2 = MaxPooling2D(pool_size=(2, 2))\n",
    "\n",
    "    flatten_layer = Flatten()\n",
    "\n",
    "    dropout_layer = Dropout(rate=0.3)\n",
    "\n",
    "    dense_layer = Dense(n_classes,activation=\"softmax\")\n",
    "\n",
    "    # defines input layer of the model\n",
    "    inputs = Input(shape=input_shape)\n",
    "    x = inputs\n",
    "\n",
    "    x = conv_layer_1(x)\n",
    "    x = max_pool_layer_1(x)\n",
    "\n",
    "    x_l = conv_layer_2l(x)\n",
    "    x_r = conv_layer_2r(x)\n",
    "    x = add(x_l, x_r)\n",
    "\n",
    "    x = act_layer_2(x)\n",
    "    x = max_pool_layer_2(x)\n",
    "\n",
    "    x = flatten_layer(x)\n",
    "    x = dropout_layer(x)\n",
    "    x = dense_layer(x)\n",
    "\n",
    "    # final output of the model\n",
    "    outputs = x\n",
    "\n",
    "    # constructs a keras model object by specifying the input and output tensors\n",
    "    return Model(inputs=inputs, outputs=outputs, name=\"model_parallel_conv\")"
   ]
  },
  {
   "cell_type": "code",
   "execution_count": null,
   "metadata": {
    "colab": {
     "base_uri": "https://localhost:8080/"
    },
    "executionInfo": {
     "elapsed": 1943853,
     "status": "ok",
     "timestamp": 1746043184834,
     "user": {
      "displayName": "Rita Vasconcelos Palma",
      "userId": "08061391910412022551"
     },
     "user_tz": -60
    },
    "id": "I_BzShuGhaQQ",
    "outputId": "e81c66ec-8a68-4e47-c209-9dc59205dc2d"
   },
   "outputs": [
    {
     "name": "stdout",
     "output_type": "stream",
     "text": [
      "Epoch 1/20\n",
      "\u001b[1m105/105\u001b[0m \u001b[32m━━━━━━━━━━━━━━━━━━━━\u001b[0m\u001b[37m\u001b[0m \u001b[1m555s\u001b[0m 5s/step - accuracy: 0.0026 - auc: 0.4792 - f1_score: 8.9448e-04 - loss: 5.4371 - val_accuracy: 0.0028 - val_auc: 0.5096 - val_f1_score: 2.9766e-04 - val_loss: 5.3094 - learning_rate: 0.0095\n",
      "Epoch 2/20\n",
      "\u001b[1m105/105\u001b[0m \u001b[32m━━━━━━━━━━━━━━━━━━━━\u001b[0m\u001b[37m\u001b[0m \u001b[1m198s\u001b[0m 2s/step - accuracy: 0.0045 - auc: 0.5178 - f1_score: 7.2878e-04 - loss: 5.3536 - val_accuracy: 0.0033 - val_auc: 0.5148 - val_f1_score: 3.3226e-04 - val_loss: 5.3221 - learning_rate: 0.0090\n",
      "Epoch 3/20\n",
      "\u001b[1m105/105\u001b[0m \u001b[32m━━━━━━━━━━━━━━━━━━━━\u001b[0m\u001b[37m\u001b[0m \u001b[1m191s\u001b[0m 2s/step - accuracy: 0.0062 - auc: 0.5274 - f1_score: 0.0017 - loss: 5.3510 - val_accuracy: 0.0045 - val_auc: 0.5142 - val_f1_score: 7.1437e-04 - val_loss: 5.3461 - learning_rate: 0.0086\n",
      "Epoch 4/20\n",
      "\u001b[1m105/105\u001b[0m \u001b[32m━━━━━━━━━━━━━━━━━━━━\u001b[0m\u001b[37m\u001b[0m \u001b[1m187s\u001b[0m 2s/step - accuracy: 0.0098 - auc: 0.5254 - f1_score: 0.0014 - loss: 5.3339 - val_accuracy: 0.0056 - val_auc: 0.5173 - val_f1_score: 5.4483e-04 - val_loss: 5.3589 - learning_rate: 0.0081\n",
      "Epoch 5/20\n",
      "\u001b[1m105/105\u001b[0m \u001b[32m━━━━━━━━━━━━━━━━━━━━\u001b[0m\u001b[37m\u001b[0m \u001b[1m220s\u001b[0m 2s/step - accuracy: 0.0146 - auc: 0.5406 - f1_score: 0.0022 - loss: 5.3189 - val_accuracy: 0.0095 - val_auc: 0.5184 - val_f1_score: 0.0013 - val_loss: 5.3969 - learning_rate: 0.0077\n",
      "Epoch 6/20\n",
      "\u001b[1m105/105\u001b[0m \u001b[32m━━━━━━━━━━━━━━━━━━━━\u001b[0m\u001b[37m\u001b[0m \u001b[1m200s\u001b[0m 2s/step - accuracy: 0.0150 - auc: 0.5484 - f1_score: 0.0043 - loss: 5.3052 - val_accuracy: 0.0083 - val_auc: 0.5220 - val_f1_score: 0.0012 - val_loss: 5.4370 - learning_rate: 0.0074\n",
      "Epoch 7/20\n",
      "\u001b[1m105/105\u001b[0m \u001b[32m━━━━━━━━━━━━━━━━━━━━\u001b[0m\u001b[37m\u001b[0m \u001b[1m189s\u001b[0m 2s/step - accuracy: 0.0190 - auc: 0.5597 - f1_score: 0.0070 - loss: 5.2687 - val_accuracy: 0.0095 - val_auc: 0.5240 - val_f1_score: 0.0012 - val_loss: 5.4971 - learning_rate: 0.0070\n",
      "Epoch 8/20\n",
      "\u001b[1m105/105\u001b[0m \u001b[32m━━━━━━━━━━━━━━━━━━━━\u001b[0m\u001b[37m\u001b[0m \u001b[1m187s\u001b[0m 2s/step - accuracy: 0.0199 - auc: 0.5557 - f1_score: 0.0084 - loss: 5.2543 - val_accuracy: 0.0095 - val_auc: 0.5267 - val_f1_score: 0.0019 - val_loss: 5.5381 - learning_rate: 0.0066\n"
     ]
    }
   ],
   "source": [
    "# model with combination 1\n",
    "\n",
    "model_paral_aug1 = model_parallel_conv()\n",
    "\n",
    "optimizer = SGD(learning_rate=0.01, name=\"optimizer\", weight_decay=0.01)\n",
    "loss = CategoricalCrossentropy(name=\"loss\")\n",
    "\n",
    "# metrics\n",
    "categorical_accuracy = CategoricalAccuracy(name=\"accuracy\")\n",
    "auc = AUC(name=\"auc\")\n",
    "f1_score = F1Score(average=\"macro\", name=\"f1_score\")\n",
    "metrics = [categorical_accuracy, auc, f1_score]\n",
    "\n",
    "model_paral_aug1.compile(loss=loss, optimizer=optimizer, metrics=metrics)\n",
    "\n",
    "\n",
    "# CALLBACKS\n",
    "# early stopping\n",
    "early_stopping_callback = EarlyStopping(monitor=\"val_accuracy\", mode=\"max\", patience=3, restore_best_weights=True)\n",
    "\n",
    "# learning rate\n",
    "lr_scheduler_callback = LearningRateScheduler(exp_decay_lr_scheduler)\n",
    "\n",
    "# logging\n",
    "metrics_file_path = root_dir_path / \"Model Metrics\"/ \"model_paral_aug1.csv\"\n",
    "metrics_callback = CSVLogger(metrics_file_path)\n",
    "\n",
    "callbacks = [early_stopping_callback, lr_scheduler_callback, metrics_callback]\n",
    "\n",
    "epochs = 20\n",
    "\n",
    "_ = model_paral_aug1.fit(\n",
    "    train_ds_sample_aug,\n",
    "    validation_data=val_ds,\n",
    "    epochs=epochs,\n",
    "    callbacks=callbacks,\n",
    "    class_weight=class_weights,\n",
    "    verbose=1\n",
    ")\n"
   ]
  },
  {
   "cell_type": "code",
   "execution_count": null,
   "metadata": {
    "colab": {
     "base_uri": "https://localhost:8080/",
     "height": 358
    },
    "executionInfo": {
     "elapsed": 2370,
     "status": "ok",
     "timestamp": 1746126532778,
     "user": {
      "displayName": "Rita Maria Vasconcelos Montenegro Palma e Santos",
      "userId": "01186469820943196846"
     },
     "user_tz": -60
    },
    "id": "npkWVz5JOwb-",
    "outputId": "67dcb0c5-cdc4-4a96-8810-bc3aef197f4f"
   },
   "outputs": [
    {
     "data": {
      "image/png": "[encoded data removed]",
      "text/plain": [
       "<Figure size 2000x500 with 2 Axes>"
      ]
     },
     "metadata": {},
     "output_type": "display_data"
    }
   ],
   "source": [
    "df_aug = pd.read_csv(root_dir_path / \"Model Metrics\"/ \"model_paral_aug1.csv\")\n",
    "\n",
    "fig, axes = plt.subplots(1, 2, figsize=(20, 5))\n",
    "\n",
    "axes[0].plot(df_aug[\"accuracy\"], label=\"Train Accuracy\")\n",
    "axes[0].plot(df_aug[\"val_accuracy\"], label=\"Val Accuracy\")\n",
    "axes[0].set_title(\"Training and Validation Accuracy\")\n",
    "axes[0].set_xlabel(\"Epoch\")\n",
    "axes[0].set_ylabel(\"Accuracy\")\n",
    "axes[0].legend()\n",
    "\n",
    "axes[1].plot(df_aug[\"loss\"], label=\"Train Loss\")\n",
    "axes[1].plot(df_aug[\"val_loss\"], label=\"Val Loss\")\n",
    "axes[1].set_title(\"Training and Validation Loss\")\n",
    "axes[1].set_xlabel(\"Epoch\")\n",
    "axes[1].set_ylabel(\"Loss\")\n",
    "axes[1].legend()\n",
    "\n",
    "plt.show()"
   ]
  },
  {
   "cell_type": "markdown",
   "metadata": {
    "id": "s0NZ9gmD-CLv"
   },
   "source": [
    "### Try same model but with oversampling the minority classes"
   ]
  },
  {
   "cell_type": "code",
   "execution_count": null,
   "metadata": {
    "id": "xWZhM13D-Qcb"
   },
   "outputs": [],
   "source": [
    "oversample_dir_path = data_dir_path / \"train_oversampled\"\n",
    "\n",
    "'''\n",
    "oversample_dir_path.mkdir(parents=True, exist_ok=True)\n",
    "\n",
    "max_count = 90\n",
    "\n",
    "# Oversample each class\n",
    "for folder in os.listdir(train_dir_path):\n",
    "    class_path = train_dir_path / folder\n",
    "    images = os.listdir(class_path)\n",
    "\n",
    "    # Make oversample class folder\n",
    "    oversample_class_path = oversample_dir_path / folder\n",
    "    oversample_class_path.mkdir(parents=True, exist_ok=True)\n",
    "\n",
    "    # Copy original images\n",
    "    for image in images:\n",
    "        shutil.copy(class_path / image, oversample_class_path / image)\n",
    "\n",
    "    # Duplicate as needed\n",
    "    if len(images) < max_count:\n",
    "        duplicate = resample(images, replace=True, n_samples=max_count - len(images), random_state=5)\n",
    "        for i, image in enumerate(duplicate):\n",
    "            shutil.copy(class_path / image, oversample_class_path / f\"dup_{i}_{image}\")\n",
    "'''"
   ]
  },
  {
   "cell_type": "code",
   "execution_count": null,
   "metadata": {
    "colab": {
     "base_uri": "https://localhost:8080/"
    },
    "executionInfo": {
     "elapsed": 8186,
     "status": "ok",
     "timestamp": 1746072851284,
     "user": {
      "displayName": "Rita Maria Vasconcelos Montenegro Palma e Santos",
      "userId": "01186469820943196846"
     },
     "user_tz": -60
    },
    "id": "tG2O_YE5-vzH",
    "outputId": "70c37257-6e2b-43d5-a0ad-8b7c6f0d2e44"
   },
   "outputs": [
    {
     "name": "stdout",
     "output_type": "stream",
     "text": [
      "Using 9586 files for training.\n"
     ]
    }
   ],
   "source": [
    "# take a sample of training oversample to improve generalization\n",
    "train_ds_oversample = image_dataset_from_directory(\n",
    "    oversample_dir_path,\n",
    "    label_mode=\"categorical\",\n",
    "    batch_size=batch_size,\n",
    "    image_size=image_size,\n",
    "    interpolation=\"bilinear\",\n",
    "    # doing this to only use 50% of our data\n",
    "    validation_split=0.5,\n",
    "    subset=\"training\",\n",
    "    seed=123,\n",
    "    verbose=False\n",
    ")"
   ]
  },
  {
   "cell_type": "code",
   "execution_count": null,
   "metadata": {
    "id": "0A_BoNED-5Mn"
   },
   "outputs": [],
   "source": [
    "train_ds_oversample = train_ds_oversample.map(lambda x, y: (rescaler(x), y))"
   ]
  },
  {
   "cell_type": "code",
   "execution_count": null,
   "metadata": {
    "id": "wBwZkijj_F67"
   },
   "outputs": [],
   "source": [
    "def model_parallel_conv():\n",
    "\n",
    "    augmentation_layer = augmentation_combination_1\n",
    "\n",
    "    conv_layer_1 = Conv2D(filters=3 * 8, kernel_size=(3, 3), activation=\"relu\")\n",
    "    max_pool_layer_1 = MaxPooling2D(pool_size=(2, 2))\n",
    "\n",
    "    # parallel convolutional layers\n",
    "    conv_layer_2l = Conv2D(filters=3 * 16, kernel_size=(3, 3), activation=\"relu\", padding=\"same\")\n",
    "    conv_layer_2r = Conv2D(filters=3 * 16, kernel_size=(3, 3), activation=\"relu\", padding=\"same\")\n",
    "\n",
    "    act_layer_2 = LeakyReLU(negative_slope=0.3)\n",
    "    max_pool_layer_2 = MaxPooling2D(pool_size=(2, 2))\n",
    "\n",
    "    flatten_layer = Flatten()\n",
    "\n",
    "    dropout_layer = Dropout(rate=0.3)\n",
    "\n",
    "    dense_layer = Dense(n_classes,activation=\"softmax\")\n",
    "\n",
    "    # defines input layer of the model\n",
    "    inputs = Input(shape=input_shape)\n",
    "    x = inputs\n",
    "\n",
    "    x = augmentation_layer(x)\n",
    "\n",
    "    x = conv_layer_1(x)\n",
    "    x = max_pool_layer_1(x)\n",
    "\n",
    "    x_l = conv_layer_2l(x)\n",
    "    x_r = conv_layer_2r(x)\n",
    "    x = add(x_l, x_r)\n",
    "\n",
    "    x = act_layer_2(x)\n",
    "    x = max_pool_layer_2(x)\n",
    "\n",
    "    x = flatten_layer(x)\n",
    "    x = dropout_layer(x)\n",
    "    x = dense_layer(x)\n",
    "\n",
    "    # final output of the model\n",
    "    outputs = x\n",
    "\n",
    "    return Model(inputs=inputs, outputs=outputs, name=\"model_parallel_conv\")"
   ]
  },
  {
   "cell_type": "code",
   "execution_count": null,
   "metadata": {
    "colab": {
     "base_uri": "https://localhost:8080/"
    },
    "executionInfo": {
     "elapsed": 21455861,
     "status": "ok",
     "timestamp": 1746094317057,
     "user": {
      "displayName": "Rita Maria Vasconcelos Montenegro Palma e Santos",
      "userId": "01186469820943196846"
     },
     "user_tz": -60
    },
    "id": "hoQgdDMB_Q9D",
    "outputId": "79fca8a8-d595-4e12-ab4c-314bc61e95b9"
   },
   "outputs": [
    {
     "name": "stdout",
     "output_type": "stream",
     "text": [
      "Epoch 1/15\n",
      "\u001b[1m150/150\u001b[0m \u001b[32m━━━━━━━━━━━━━━━━━━━━\u001b[0m\u001b[37m\u001b[0m \u001b[1m1959s\u001b[0m 13s/step - accuracy: 0.0128 - auc: 0.5339 - f1_score: 0.0025 - loss: 5.3077 - val_accuracy: 0.0540 - val_auc: 0.6386 - val_f1_score: 0.0038 - val_loss: 5.0813 - learning_rate: 0.0095\n",
      "Epoch 2/15\n",
      "\u001b[1m150/150\u001b[0m \u001b[32m━━━━━━━━━━━━━━━━━━━━\u001b[0m\u001b[37m\u001b[0m \u001b[1m1384s\u001b[0m 9s/step - accuracy: 0.0323 - auc: 0.6239 - f1_score: 0.0093 - loss: 5.1253 - val_accuracy: 0.0551 - val_auc: 0.6624 - val_f1_score: 0.0173 - val_loss: 4.9920 - learning_rate: 0.0090\n",
      "Epoch 3/15\n",
      "\u001b[1m150/150\u001b[0m \u001b[32m━━━━━━━━━━━━━━━━━━━━\u001b[0m\u001b[37m\u001b[0m \u001b[1m1381s\u001b[0m 9s/step - accuracy: 0.0578 - auc: 0.6857 - f1_score: 0.0272 - loss: 4.9407 - val_accuracy: 0.0590 - val_auc: 0.6869 - val_f1_score: 0.0179 - val_loss: 4.9141 - learning_rate: 0.0086\n",
      "Epoch 4/15\n",
      "\u001b[1m150/150\u001b[0m \u001b[32m━━━━━━━━━━━━━━━━━━━━\u001b[0m\u001b[37m\u001b[0m \u001b[1m1390s\u001b[0m 9s/step - accuracy: 0.0764 - auc: 0.7244 - f1_score: 0.0439 - loss: 4.7829 - val_accuracy: 0.0573 - val_auc: 0.7002 - val_f1_score: 0.0229 - val_loss: 4.9079 - learning_rate: 0.0081\n",
      "Epoch 5/15\n",
      "\u001b[1m150/150\u001b[0m \u001b[32m━━━━━━━━━━━━━━━━━━━━\u001b[0m\u001b[37m\u001b[0m \u001b[1m1355s\u001b[0m 9s/step - accuracy: 0.0919 - auc: 0.7556 - f1_score: 0.0571 - loss: 4.6089 - val_accuracy: 0.0640 - val_auc: 0.7109 - val_f1_score: 0.0348 - val_loss: 4.8442 - learning_rate: 0.0077\n",
      "Epoch 6/15\n",
      "\u001b[1m150/150\u001b[0m \u001b[32m━━━━━━━━━━━━━━━━━━━━\u001b[0m\u001b[37m\u001b[0m \u001b[1m1429s\u001b[0m 9s/step - accuracy: 0.1230 - auc: 0.7836 - f1_score: 0.0890 - loss: 4.4313 - val_accuracy: 0.0690 - val_auc: 0.7184 - val_f1_score: 0.0338 - val_loss: 4.8230 - learning_rate: 0.0074\n",
      "Epoch 7/15\n",
      "\u001b[1m150/150\u001b[0m \u001b[32m━━━━━━━━━━━━━━━━━━━━\u001b[0m\u001b[37m\u001b[0m \u001b[1m1389s\u001b[0m 9s/step - accuracy: 0.1477 - auc: 0.8075 - f1_score: 0.1169 - loss: 4.2616 - val_accuracy: 0.0801 - val_auc: 0.7399 - val_f1_score: 0.0468 - val_loss: 4.7290 - learning_rate: 0.0070\n",
      "Epoch 8/15\n",
      "\u001b[1m150/150\u001b[0m \u001b[32m━━━━━━━━━━━━━━━━━━━━\u001b[0m\u001b[37m\u001b[0m \u001b[1m1387s\u001b[0m 9s/step - accuracy: 0.1818 - auc: 0.8240 - f1_score: 0.1521 - loss: 4.1002 - val_accuracy: 0.0868 - val_auc: 0.7280 - val_f1_score: 0.0557 - val_loss: 4.7670 - learning_rate: 0.0066\n",
      "Epoch 9/15\n",
      "\u001b[1m150/150\u001b[0m \u001b[32m━━━━━━━━━━━━━━━━━━━━\u001b[0m\u001b[37m\u001b[0m \u001b[1m1397s\u001b[0m 9s/step - accuracy: 0.2025 - auc: 0.8385 - f1_score: 0.1720 - loss: 3.9676 - val_accuracy: 0.0874 - val_auc: 0.7321 - val_f1_score: 0.0559 - val_loss: 4.7578 - learning_rate: 0.0063\n",
      "Epoch 10/15\n",
      "\u001b[1m150/150\u001b[0m \u001b[32m━━━━━━━━━━━━━━━━━━━━\u001b[0m\u001b[37m\u001b[0m \u001b[1m1400s\u001b[0m 9s/step - accuracy: 0.2304 - auc: 0.8532 - f1_score: 0.2032 - loss: 3.8090 - val_accuracy: 0.0874 - val_auc: 0.7247 - val_f1_score: 0.0536 - val_loss: 4.8289 - learning_rate: 0.0060\n",
      "Epoch 11/15\n",
      "\u001b[1m150/150\u001b[0m \u001b[32m━━━━━━━━━━━━━━━━━━━━\u001b[0m\u001b[37m\u001b[0m \u001b[1m1410s\u001b[0m 9s/step - accuracy: 0.2515 - auc: 0.8632 - f1_score: 0.2258 - loss: 3.6722 - val_accuracy: 0.0863 - val_auc: 0.7331 - val_f1_score: 0.0655 - val_loss: 4.8059 - learning_rate: 0.0057\n",
      "Epoch 12/15\n",
      "\u001b[1m150/150\u001b[0m \u001b[32m━━━━━━━━━━━━━━━━━━━━\u001b[0m\u001b[37m\u001b[0m \u001b[1m1387s\u001b[0m 9s/step - accuracy: 0.2842 - auc: 0.8747 - f1_score: 0.2582 - loss: 3.4940 - val_accuracy: 0.0963 - val_auc: 0.7123 - val_f1_score: 0.0739 - val_loss: 4.9337 - learning_rate: 0.0054\n",
      "Epoch 13/15\n",
      "\u001b[1m150/150\u001b[0m \u001b[32m━━━━━━━━━━━━━━━━━━━━\u001b[0m\u001b[37m\u001b[0m \u001b[1m1394s\u001b[0m 9s/step - accuracy: 0.3121 - auc: 0.8810 - f1_score: 0.2836 - loss: 3.3890 - val_accuracy: 0.0940 - val_auc: 0.7400 - val_f1_score: 0.0738 - val_loss: 4.8217 - learning_rate: 0.0051\n",
      "Epoch 14/15\n",
      "\u001b[1m150/150\u001b[0m \u001b[32m━━━━━━━━━━━━━━━━━━━━\u001b[0m\u001b[37m\u001b[0m \u001b[1m1391s\u001b[0m 9s/step - accuracy: 0.3380 - auc: 0.8910 - f1_score: 0.3146 - loss: 3.2403 - val_accuracy: 0.1052 - val_auc: 0.7342 - val_f1_score: 0.0758 - val_loss: 4.8440 - learning_rate: 0.0049\n",
      "Epoch 15/15\n",
      "\u001b[1m150/150\u001b[0m \u001b[32m━━━━━━━━━━━━━━━━━━━━\u001b[0m\u001b[37m\u001b[0m \u001b[1m1353s\u001b[0m 9s/step - accuracy: 0.3655 - auc: 0.8987 - f1_score: 0.3423 - loss: 3.1076 - val_accuracy: 0.1052 - val_auc: 0.7334 - val_f1_score: 0.0765 - val_loss: 4.9063 - learning_rate: 0.0046\n"
     ]
    }
   ],
   "source": [
    "# model with combination 1\n",
    "\n",
    "model_paral_aug1 = model_parallel_conv()\n",
    "\n",
    "optimizer = SGD(learning_rate=0.01, name=\"optimizer\", weight_decay=0.01)\n",
    "loss = CategoricalCrossentropy(name=\"loss\")\n",
    "\n",
    "# metrics\n",
    "categorical_accuracy = CategoricalAccuracy(name=\"accuracy\")\n",
    "auc = AUC(name=\"auc\")\n",
    "f1_score = F1Score(average=\"macro\", name=\"f1_score\")\n",
    "metrics = [categorical_accuracy, auc, f1_score]\n",
    "\n",
    "model_paral_aug1.compile(loss=loss, optimizer=optimizer, metrics=metrics)\n",
    "\n",
    "\n",
    "# CALLBACKS\n",
    "# early stopping\n",
    "early_stopping_callback = EarlyStopping(monitor=\"val_accuracy\", mode=\"max\", patience=3, restore_best_weights=True)\n",
    "\n",
    "# learning rate\n",
    "lr_scheduler_callback = LearningRateScheduler(exp_decay_lr_scheduler)\n",
    "\n",
    "# logging\n",
    "metrics_file_path = root_dir_path / \"Model Metrics\"/ \"model_oversample_paral_aug1.csv\"\n",
    "metrics_callback = CSVLogger(metrics_file_path)\n",
    "\n",
    "callbacks = [early_stopping_callback, lr_scheduler_callback, metrics_callback]\n",
    "\n",
    "epochs = 15\n",
    "\n",
    "_ = model_paral_aug1.fit(\n",
    "    train_ds_oversample,\n",
    "    validation_data=val_ds,\n",
    "    epochs=epochs,\n",
    "    callbacks=callbacks,\n",
    "    verbose=1\n",
    ")\n"
   ]
  },
  {
   "cell_type": "code",
   "execution_count": null,
   "metadata": {
    "colab": {
     "base_uri": "https://localhost:8080/",
     "height": 507
    },
    "executionInfo": {
     "elapsed": 393,
     "status": "ok",
     "timestamp": 1746095405099,
     "user": {
      "displayName": "Rita Maria Vasconcelos Montenegro Palma e Santos",
      "userId": "01186469820943196846"
     },
     "user_tz": -60
    },
    "id": "ngpZjRkZY-yc",
    "outputId": "46fc0b24-0c09-4c8b-d83d-dbe359471811"
   },
   "outputs": [
    {
     "data": {
      "image/png": "[encoded data removed]",
      "text/plain": [
       "<Figure size 1500x500 with 2 Axes>"
      ]
     },
     "metadata": {},
     "output_type": "display_data"
    }
   ],
   "source": [
    "fig, axes = plt.subplots(1, 2, figsize=(15, 5))\n",
    "\n",
    "# Plot accuracy side by side\n",
    "axes[0].plot(_.history[\"accuracy\"], label=\"Train Accuracy\")\n",
    "axes[0].plot(_.history[\"val_accuracy\"], label=\"Val Accuracy\")\n",
    "axes[0].set_title(\"Training and Validation Accuracy\")\n",
    "axes[0].set_xlabel(\"Epoch\")\n",
    "axes[0].set_ylabel(\"Accuracy\")\n",
    "axes[0].legend()\n",
    "\n",
    "# Plot loss side by side\n",
    "axes[1].plot(_.history[\"loss\"], label=\"Train Loss\")\n",
    "axes[1].plot(_.history[\"val_loss\"], label=\"Val Loss\")\n",
    "axes[1].set_title(\"Training and Validation Loss\")\n",
    "axes[1].set_xlabel(\"Epoch\")\n",
    "axes[1].set_ylabel(\"Loss\")\n",
    "axes[1].legend()\n",
    "\n",
    "plt.show()"
   ]
  },
  {
   "cell_type": "code",
   "execution_count": null,
   "metadata": {
    "colab": {
     "base_uri": "https://localhost:8080/"
    },
    "executionInfo": {
     "elapsed": 694964,
     "status": "ok",
     "timestamp": 1746095012026,
     "user": {
      "displayName": "Rita Maria Vasconcelos Montenegro Palma e Santos",
      "userId": "01186469820943196846"
     },
     "user_tz": -60
    },
    "id": "E8AiHPt8iwh6",
    "outputId": "55099914-0d98-49ab-c2a7-4a02539fb291"
   },
   "outputs": [
    {
     "data": {
      "text/plain": [
       "{'accuracy': 0.1034482792019844,\n",
       " 'auc': 0.7432038187980652,\n",
       " 'f1_score': 0.07972206175327301,\n",
       " 'loss': 4.818679332733154}"
      ]
     },
     "execution_count": 34,
     "metadata": {},
     "output_type": "execute_result"
    }
   ],
   "source": [
    "model_paral_aug1.evaluate(\n",
    "    test_ds,\n",
    "    return_dict=True,\n",
    "    verbose=0\n",
    ")"
   ]
  },
  {
   "cell_type": "markdown",
   "metadata": {
    "id": "JhVRjjuWdC0-"
   },
   "source": [
    "- model is failing to make correct predictions for a large number of classes"
   ]
  },
  {
   "cell_type": "markdown",
   "metadata": {
    "id": "q9-gSLwfXkPa"
   },
   "source": [
    "Steps to improve model:\n",
    "1. More augmentations: add the two combinations together\n",
    "2. Try label soothing\n",
    "3. Add batch normalization after convolutional layers\n",
    "4. Increase dropout"
   ]
  },
  {
   "cell_type": "code",
   "execution_count": null,
   "metadata": {
    "id": "gv3HphZ2bRQv"
   },
   "outputs": [],
   "source": [
    "augmentation_combination_3 = Pipeline(\n",
    "    [\n",
    "        RandomBrightness(factor=0.2, value_range=value_range),\n",
    "        RandomFlip(mode=\"horizontal\"),\n",
    "        RandomZoom(height_factor=(0.0, 0.3), width_factor=(0.0, 0.3)),\n",
    "        RandomCutout(height_factor=0.5, width_factor=0.5),\n",
    "        RandomGrayscale(factor=0.5),\n",
    "        RandomGaussianBlur(factor=0.7, kernel_size=3),\n",
    "    ],\n",
    "    name=\"Brightness-Flip-Zoom-Cutout-Grayscale-Blur\"\n",
    ")"
   ]
  },
  {
   "cell_type": "code",
   "execution_count": null,
   "metadata": {
    "id": "_IRS_IE7ab5Q"
   },
   "outputs": [],
   "source": [
    "def model_parallel_conv3():\n",
    "\n",
    "    augmentation_layer = augmentation_combination_3\n",
    "\n",
    "    conv_layer_1 = Conv2D(filters=3 * 8, kernel_size=(3, 3), activation=\"relu\")\n",
    "    normaliation_layer_1 = BatchNormalization()\n",
    "    max_pool_layer_1 = MaxPooling2D(pool_size=(2, 2))\n",
    "\n",
    "    # parallel convolutional layers\n",
    "    conv_layer_2l = Conv2D(filters=3 * 16, kernel_size=(3, 3), activation=\"relu\", padding=\"same\")\n",
    "    conv_layer_2r = Conv2D(filters=3 * 16, kernel_size=(3, 3), activation=\"relu\", padding=\"same\")\n",
    "    normaliation_layer_2 = BatchNormalization()\n",
    "\n",
    "    act_layer_2 = LeakyReLU(negative_slope=0.3)\n",
    "    max_pool_layer_2 = MaxPooling2D(pool_size=(2, 2))\n",
    "\n",
    "    flatten_layer = Flatten()\n",
    "\n",
    "    dropout_layer = Dropout(rate=0.5)\n",
    "\n",
    "    dense_layer = Dense(n_classes,activation=\"softmax\")\n",
    "\n",
    "    # defines input layer of the model\n",
    "    inputs = Input(shape=input_shape)\n",
    "    x = inputs\n",
    "\n",
    "    x = augmentation_layer(x)\n",
    "\n",
    "    x = conv_layer_1(x)\n",
    "    x = normaliation_layer_1(x)\n",
    "\n",
    "    x = max_pool_layer_1(x)\n",
    "\n",
    "    x_l = conv_layer_2l(x)\n",
    "    x_r = conv_layer_2r(x)\n",
    "    x = add(x_l, x_r)\n",
    "    x = normaliation_layer_2(x)\n",
    "\n",
    "    x = act_layer_2(x)\n",
    "    x = max_pool_layer_2(x)\n",
    "\n",
    "    x = flatten_layer(x)\n",
    "    x = dropout_layer(x)\n",
    "    x = dense_layer(x)\n",
    "\n",
    "    # final output of the model\n",
    "    outputs = x\n",
    "\n",
    "    return Model(inputs=inputs, outputs=outputs, name=\"model_parallel_conv3\")"
   ]
  },
  {
   "cell_type": "code",
   "execution_count": null,
   "metadata": {
    "colab": {
     "base_uri": "https://localhost:8080/"
    },
    "id": "mjy95G_1a5Ii",
    "outputId": "89fb9c0e-1a1c-4037-ee53-11095370fa45"
   },
   "outputs": [
    {
     "name": "stdout",
     "output_type": "stream",
     "text": [
      "Epoch 1/15\n",
      "\u001b[1m150/150\u001b[0m \u001b[32m━━━━━━━━━━━━━━━━━━━━\u001b[0m\u001b[37m\u001b[0m \u001b[1m1942s\u001b[0m 13s/step - accuracy: 0.0136 - auc: 0.5202 - f1_score: 0.0108 - loss: 17.0361 - val_accuracy: 0.0100 - val_auc: 0.5400 - val_f1_score: 0.0019 - val_loss: 5.6936 - learning_rate: 0.0095\n",
      "Epoch 2/15\n",
      "\u001b[1m150/150\u001b[0m \u001b[32m━━━━━━━━━━━━━━━━━━━━\u001b[0m\u001b[37m\u001b[0m \u001b[1m1870s\u001b[0m 12s/step - accuracy: 0.0465 - auc: 0.6391 - f1_score: 0.0389 - loss: 5.5041 - val_accuracy: 0.0106 - val_auc: 0.5225 - val_f1_score: 4.5633e-04 - val_loss: 6.5398 - learning_rate: 0.0090\n",
      "Epoch 3/15\n",
      "\u001b[1m150/150\u001b[0m \u001b[32m━━━━━━━━━━━━━━━━━━━━\u001b[0m\u001b[37m\u001b[0m \u001b[1m1901s\u001b[0m 13s/step - accuracy: 0.0882 - auc: 0.7171 - f1_score: 0.0726 - loss: 4.9170 - val_accuracy: 0.0262 - val_auc: 0.5830 - val_f1_score: 0.0152 - val_loss: 5.6035 - learning_rate: 0.0086\n",
      "Epoch 4/15\n",
      "\u001b[1m150/150\u001b[0m \u001b[32m━━━━━━━━━━━━━━━━━━━━\u001b[0m\u001b[37m\u001b[0m \u001b[1m1878s\u001b[0m 12s/step - accuracy: 0.1277 - auc: 0.7596 - f1_score: 0.1110 - loss: 4.6629 - val_accuracy: 0.0612 - val_auc: 0.6780 - val_f1_score: 0.0366 - val_loss: 5.0811 - learning_rate: 0.0081\n",
      "Epoch 5/15\n",
      "\u001b[1m150/150\u001b[0m \u001b[32m━━━━━━━━━━━━━━━━━━━━\u001b[0m\u001b[37m\u001b[0m \u001b[1m1947s\u001b[0m 13s/step - accuracy: 0.1703 - auc: 0.7949 - f1_score: 0.1513 - loss: 4.4421 - val_accuracy: 0.0690 - val_auc: 0.7027 - val_f1_score: 0.0480 - val_loss: 4.9988 - learning_rate: 0.0077\n",
      "Epoch 6/15\n",
      "\u001b[1m150/150\u001b[0m \u001b[32m━━━━━━━━━━━━━━━━━━━━\u001b[0m\u001b[37m\u001b[0m \u001b[1m1965s\u001b[0m 13s/step - accuracy: 0.2231 - auc: 0.8240 - f1_score: 0.2036 - loss: 4.1986 - val_accuracy: 0.0840 - val_auc: 0.7187 - val_f1_score: 0.0587 - val_loss: 4.9259 - learning_rate: 0.0074\n",
      "Epoch 7/15\n",
      "\u001b[1m129/150\u001b[0m \u001b[32m━━━━━━━━━━━━━━━━━\u001b[0m\u001b[37m━━━\u001b[0m \u001b[1m4:05\u001b[0m 12s/step - accuracy: 0.2604 - auc: 0.8536 - f1_score: 0.2395 - loss: 3.9817"
     ]
    }
   ],
   "source": [
    "# model with combination 1\n",
    "\n",
    "model_paral_aug3 = model_parallel_conv3()\n",
    "\n",
    "optimizer = SGD(learning_rate=0.01, name=\"optimizer\", weight_decay=0.01)\n",
    "loss = CategoricalCrossentropy(label_smoothing=0.1, name=\"loss\")\n",
    "\n",
    "# metrics\n",
    "categorical_accuracy = CategoricalAccuracy(name=\"accuracy\")\n",
    "auc = AUC(name=\"auc\")\n",
    "f1_score = F1Score(average=\"macro\", name=\"f1_score\")\n",
    "metrics = [categorical_accuracy, auc, f1_score]\n",
    "\n",
    "model_paral_aug3.compile(loss=loss, optimizer=optimizer, metrics=metrics)\n",
    "\n",
    "\n",
    "# CALLBACKS\n",
    "# early stopping\n",
    "early_stopping_callback = EarlyStopping(monitor=\"val_accuracy\", mode=\"max\", patience=3, restore_best_weights=True)\n",
    "\n",
    "# learning rate\n",
    "lr_scheduler_callback = LearningRateScheduler(exp_decay_lr_scheduler)\n",
    "\n",
    "# logging\n",
    "metrics_file_path = root_dir_path / \"Model Metrics\"/ \"model_oversample_paral_aug3.csv\"\n",
    "metrics_callback = CSVLogger(metrics_file_path)\n",
    "\n",
    "callbacks = [early_stopping_callback, lr_scheduler_callback, metrics_callback]\n",
    "\n",
    "epochs = 15\n",
    "\n",
    "_3 = model_paral_aug3.fit(\n",
    "    train_ds_oversample,\n",
    "    validation_data=val_ds,\n",
    "    epochs=epochs,\n",
    "    callbacks=callbacks,\n",
    "    verbose=1\n",
    ")\n"
   ]
  },
  {
   "cell_type": "code",
   "execution_count": null,
   "metadata": {
    "colab": {
     "base_uri": "https://localhost:8080/",
     "height": 360
    },
    "executionInfo": {
     "elapsed": 1041,
     "status": "ok",
     "timestamp": 1746127693501,
     "user": {
      "displayName": "Rita Maria Vasconcelos Montenegro Palma e Santos",
      "userId": "01186469820943196846"
     },
     "user_tz": -60
    },
    "id": "edxv_rGmBBQV",
    "outputId": "57cf3ac3-5bb6-48b4-a559-174c2e1d8450"
   },
   "outputs": [
    {
     "data": {
      "image/png": "[encoded data removed]",
      "text/plain": [
       "<Figure size 2000x500 with 2 Axes>"
      ]
     },
     "metadata": {},
     "output_type": "display_data"
    }
   ],
   "source": [
    "df_aug = pd.read_csv(root_dir_path / \"Model Metrics\"/ \"model_oversample_paral_aug3.csv\")\n",
    "\n",
    "fig, axes = plt.subplots(1, 2, figsize=(20, 5))\n",
    "\n",
    "axes[0].plot(df_aug[\"accuracy\"], label=\"Train Accuracy\")\n",
    "axes[0].plot(df_aug[\"val_accuracy\"], label=\"Val Accuracy\")\n",
    "axes[0].set_title(\"Training and Validation Accuracy\")\n",
    "axes[0].set_xlabel(\"Epoch\")\n",
    "axes[0].set_ylabel(\"Accuracy\")\n",
    "axes[0].legend()\n",
    "\n",
    "axes[1].plot(df_aug[\"loss\"], label=\"Train Loss\")\n",
    "axes[1].plot(df_aug[\"val_loss\"], label=\"Val Loss\")\n",
    "axes[1].set_title(\"Training and Validation Loss\")\n",
    "axes[1].set_xlabel(\"Epoch\")\n",
    "axes[1].set_ylabel(\"Loss\")\n",
    "axes[1].legend()\n",
    "\n",
    "plt.show()"
   ]
  },
  {
   "cell_type": "markdown",
   "metadata": {
    "id": "S1AaFS_Vn1aK"
   },
   "source": [
    "<div class=\"alert alert-block alert-info\"> \n",
    "\n",
    "# PRE-TRAINED MODELS\n",
    "\n",
    "</div>"
   ]
  },
  {
   "cell_type": "markdown",
   "metadata": {
    "id": "Y1-Uvqkrnrd3"
   },
   "source": [
    "# RESNET50_CUSTOM"
   ]
  },
  {
   "cell_type": "code",
   "execution_count": null,
   "metadata": {
    "id": "GKN1qZFToGpK",
    "outputId": "413cf2ce-44bc-4a22-d86d-62ce4d4adc47"
   },
   "outputs": [
    {
     "data": {
      "text/html": [
       "<pre style=\"white-space:pre;overflow-x:auto;line-height:normal;font-family:Menlo,'DejaVu Sans Mono',consolas,'Courier New',monospace\"><span style=\"font-weight: bold\">Model: \"sequential_2\"</span>\n",
       "</pre>\n"
      ],
      "text/plain": [
       "\u001b[1mModel: \"sequential_2\"\u001b[0m\n"
      ]
     },
     "metadata": {},
     "output_type": "display_data"
    },
    {
     "data": {
      "text/html": [
       "<pre style=\"white-space:pre;overflow-x:auto;line-height:normal;font-family:Menlo,'DejaVu Sans Mono',consolas,'Courier New',monospace\">┏━━━━━━━━━━━━━━━━━━━━━━━━━━━━━━━━━┳━━━━━━━━━━━━━━━━━━━━━━━━┳━━━━━━━━━━━━━━━┓\n",
       "┃<span style=\"font-weight: bold\"> Layer (type)                    </span>┃<span style=\"font-weight: bold\"> Output Shape           </span>┃<span style=\"font-weight: bold\">       Param # </span>┃\n",
       "┡━━━━━━━━━━━━━━━━━━━━━━━━━━━━━━━━━╇━━━━━━━━━━━━━━━━━━━━━━━━╇━━━━━━━━━━━━━━━┩\n",
       "│ resnet50 (<span style=\"color: #0087ff; text-decoration-color: #0087ff\">Functional</span>)           │ (<span style=\"color: #00d7ff; text-decoration-color: #00d7ff\">None</span>, <span style=\"color: #00af00; text-decoration-color: #00af00\">7</span>, <span style=\"color: #00af00; text-decoration-color: #00af00\">7</span>, <span style=\"color: #00af00; text-decoration-color: #00af00\">2048</span>)     │    <span style=\"color: #00af00; text-decoration-color: #00af00\">23,587,712</span> │\n",
       "├─────────────────────────────────┼────────────────────────┼───────────────┤\n",
       "│ global_average_pooling2d_2      │ (<span style=\"color: #00d7ff; text-decoration-color: #00d7ff\">None</span>, <span style=\"color: #00af00; text-decoration-color: #00af00\">2048</span>)           │             <span style=\"color: #00af00; text-decoration-color: #00af00\">0</span> │\n",
       "│ (<span style=\"color: #0087ff; text-decoration-color: #0087ff\">GlobalAveragePooling2D</span>)        │                        │               │\n",
       "├─────────────────────────────────┼────────────────────────┼───────────────┤\n",
       "│ dense_4 (<span style=\"color: #0087ff; text-decoration-color: #0087ff\">Dense</span>)                 │ (<span style=\"color: #00d7ff; text-decoration-color: #00d7ff\">None</span>, <span style=\"color: #00af00; text-decoration-color: #00af00\">1024</span>)           │     <span style=\"color: #00af00; text-decoration-color: #00af00\">2,098,176</span> │\n",
       "├─────────────────────────────────┼────────────────────────┼───────────────┤\n",
       "│ dropout_2 (<span style=\"color: #0087ff; text-decoration-color: #0087ff\">Dropout</span>)             │ (<span style=\"color: #00d7ff; text-decoration-color: #00d7ff\">None</span>, <span style=\"color: #00af00; text-decoration-color: #00af00\">1024</span>)           │             <span style=\"color: #00af00; text-decoration-color: #00af00\">0</span> │\n",
       "├─────────────────────────────────┼────────────────────────┼───────────────┤\n",
       "│ dense_5 (<span style=\"color: #0087ff; text-decoration-color: #0087ff\">Dense</span>)                 │ (<span style=\"color: #00d7ff; text-decoration-color: #00d7ff\">None</span>, <span style=\"color: #00af00; text-decoration-color: #00af00\">202</span>)            │       <span style=\"color: #00af00; text-decoration-color: #00af00\">207,050</span> │\n",
       "└─────────────────────────────────┴────────────────────────┴───────────────┘\n",
       "</pre>\n"
      ],
      "text/plain": [
       "┏━━━━━━━━━━━━━━━━━━━━━━━━━━━━━━━━━┳━━━━━━━━━━━━━━━━━━━━━━━━┳━━━━━━━━━━━━━━━┓\n",
       "┃\u001b[1m \u001b[0m\u001b[1mLayer (type)                   \u001b[0m\u001b[1m \u001b[0m┃\u001b[1m \u001b[0m\u001b[1mOutput Shape          \u001b[0m\u001b[1m \u001b[0m┃\u001b[1m \u001b[0m\u001b[1m      Param #\u001b[0m\u001b[1m \u001b[0m┃\n",
       "┡━━━━━━━━━━━━━━━━━━━━━━━━━━━━━━━━━╇━━━━━━━━━━━━━━━━━━━━━━━━╇━━━━━━━━━━━━━━━┩\n",
       "│ resnet50 (\u001b[38;5;33mFunctional\u001b[0m)           │ (\u001b[38;5;45mNone\u001b[0m, \u001b[38;5;34m7\u001b[0m, \u001b[38;5;34m7\u001b[0m, \u001b[38;5;34m2048\u001b[0m)     │    \u001b[38;5;34m23,587,712\u001b[0m │\n",
       "├─────────────────────────────────┼────────────────────────┼───────────────┤\n",
       "│ global_average_pooling2d_2      │ (\u001b[38;5;45mNone\u001b[0m, \u001b[38;5;34m2048\u001b[0m)           │             \u001b[38;5;34m0\u001b[0m │\n",
       "│ (\u001b[38;5;33mGlobalAveragePooling2D\u001b[0m)        │                        │               │\n",
       "├─────────────────────────────────┼────────────────────────┼───────────────┤\n",
       "│ dense_4 (\u001b[38;5;33mDense\u001b[0m)                 │ (\u001b[38;5;45mNone\u001b[0m, \u001b[38;5;34m1024\u001b[0m)           │     \u001b[38;5;34m2,098,176\u001b[0m │\n",
       "├─────────────────────────────────┼────────────────────────┼───────────────┤\n",
       "│ dropout_2 (\u001b[38;5;33mDropout\u001b[0m)             │ (\u001b[38;5;45mNone\u001b[0m, \u001b[38;5;34m1024\u001b[0m)           │             \u001b[38;5;34m0\u001b[0m │\n",
       "├─────────────────────────────────┼────────────────────────┼───────────────┤\n",
       "│ dense_5 (\u001b[38;5;33mDense\u001b[0m)                 │ (\u001b[38;5;45mNone\u001b[0m, \u001b[38;5;34m202\u001b[0m)            │       \u001b[38;5;34m207,050\u001b[0m │\n",
       "└─────────────────────────────────┴────────────────────────┴───────────────┘\n"
      ]
     },
     "metadata": {},
     "output_type": "display_data"
    },
    {
     "data": {
      "text/html": [
       "<pre style=\"white-space:pre;overflow-x:auto;line-height:normal;font-family:Menlo,'DejaVu Sans Mono',consolas,'Courier New',monospace\"><span style=\"font-weight: bold\"> Total params: </span><span style=\"color: #00af00; text-decoration-color: #00af00\">25,892,938</span> (98.77 MB)\n",
       "</pre>\n"
      ],
      "text/plain": [
       "\u001b[1m Total params: \u001b[0m\u001b[38;5;34m25,892,938\u001b[0m (98.77 MB)\n"
      ]
     },
     "metadata": {},
     "output_type": "display_data"
    },
    {
     "data": {
      "text/html": [
       "<pre style=\"white-space:pre;overflow-x:auto;line-height:normal;font-family:Menlo,'DejaVu Sans Mono',consolas,'Courier New',monospace\"><span style=\"font-weight: bold\"> Trainable params: </span><span style=\"color: #00af00; text-decoration-color: #00af00\">2,305,226</span> (8.79 MB)\n",
       "</pre>\n"
      ],
      "text/plain": [
       "\u001b[1m Trainable params: \u001b[0m\u001b[38;5;34m2,305,226\u001b[0m (8.79 MB)\n"
      ]
     },
     "metadata": {},
     "output_type": "display_data"
    },
    {
     "data": {
      "text/html": [
       "<pre style=\"white-space:pre;overflow-x:auto;line-height:normal;font-family:Menlo,'DejaVu Sans Mono',consolas,'Courier New',monospace\"><span style=\"font-weight: bold\"> Non-trainable params: </span><span style=\"color: #00af00; text-decoration-color: #00af00\">23,587,712</span> (89.98 MB)\n",
       "</pre>\n"
      ],
      "text/plain": [
       "\u001b[1m Non-trainable params: \u001b[0m\u001b[38;5;34m23,587,712\u001b[0m (89.98 MB)\n"
      ]
     },
     "metadata": {},
     "output_type": "display_data"
    },
    {
     "name": "stdout",
     "output_type": "stream",
     "text": [
      "Epoch 1/12\n",
      "\u001b[1m105/105\u001b[0m \u001b[32m━━━━━━━━━━━━━━━━━━━━\u001b[0m\u001b[37m\u001b[0m \u001b[1m0s\u001b[0m 5s/step - accuracy: 0.0229 - auc: 0.6080 - f1_score: 0.0025 - loss: 5.3010"
     ]
    },
    {
     "name": "stderr",
     "output_type": "stream",
     "text": [
      "WARNING:absl:You are saving your model as an HDF5 file via `model.save()` or `keras.saving.save_model(model)`. This file format is considered legacy. We recommend using instead the native Keras format, e.g. `model.save('my_model.keras')` or `keras.saving.save_model(model, 'my_model.keras')`. \n"
     ]
    },
    {
     "name": "stdout",
     "output_type": "stream",
     "text": [
      "\u001b[1m105/105\u001b[0m \u001b[32m━━━━━━━━━━━━━━━━━━━━\u001b[0m\u001b[37m\u001b[0m \u001b[1m656s\u001b[0m 6s/step - accuracy: 0.0229 - auc: 0.6082 - f1_score: 0.0025 - loss: 5.2997 - val_accuracy: 0.0362 - val_auc: 0.6698 - val_f1_score: 0.0012 - val_loss: 5.0109\n",
      "Epoch 2/12\n",
      "\u001b[1m105/105\u001b[0m \u001b[32m━━━━━━━━━━━━━━━━━━━━\u001b[0m\u001b[37m\u001b[0m \u001b[1m0s\u001b[0m 5s/step - accuracy: 0.0288 - auc: 0.6586 - f1_score: 0.0022 - loss: 5.0595"
     ]
    },
    {
     "name": "stderr",
     "output_type": "stream",
     "text": [
      "WARNING:absl:You are saving your model as an HDF5 file via `model.save()` or `keras.saving.save_model(model)`. This file format is considered legacy. We recommend using instead the native Keras format, e.g. `model.save('my_model.keras')` or `keras.saving.save_model(model, 'my_model.keras')`. \n"
     ]
    },
    {
     "name": "stdout",
     "output_type": "stream",
     "text": [
      "\u001b[1m105/105\u001b[0m \u001b[32m━━━━━━━━━━━━━━━━━━━━\u001b[0m\u001b[37m\u001b[0m \u001b[1m611s\u001b[0m 6s/step - accuracy: 0.0288 - auc: 0.6587 - f1_score: 0.0022 - loss: 5.0593 - val_accuracy: 0.0351 - val_auc: 0.6810 - val_f1_score: 0.0015 - val_loss: 4.9768\n",
      "Epoch 3/12\n",
      "\u001b[1m105/105\u001b[0m \u001b[32m━━━━━━━━━━━━━━━━━━━━\u001b[0m\u001b[37m\u001b[0m \u001b[1m0s\u001b[0m 4s/step - accuracy: 0.0328 - auc: 0.6681 - f1_score: 0.0024 - loss: 5.0185"
     ]
    },
    {
     "name": "stderr",
     "output_type": "stream",
     "text": [
      "WARNING:absl:You are saving your model as an HDF5 file via `model.save()` or `keras.saving.save_model(model)`. This file format is considered legacy. We recommend using instead the native Keras format, e.g. `model.save('my_model.keras')` or `keras.saving.save_model(model, 'my_model.keras')`. \n"
     ]
    },
    {
     "name": "stdout",
     "output_type": "stream",
     "text": [
      "\u001b[1m105/105\u001b[0m \u001b[32m━━━━━━━━━━━━━━━━━━━━\u001b[0m\u001b[37m\u001b[0m \u001b[1m600s\u001b[0m 6s/step - accuracy: 0.0328 - auc: 0.6681 - f1_score: 0.0024 - loss: 5.0183 - val_accuracy: 0.0384 - val_auc: 0.6877 - val_f1_score: 0.0020 - val_loss: 4.9347\n",
      "Epoch 4/12\n",
      "\u001b[1m105/105\u001b[0m \u001b[32m━━━━━━━━━━━━━━━━━━━━\u001b[0m\u001b[37m\u001b[0m \u001b[1m0s\u001b[0m 5s/step - accuracy: 0.0322 - auc: 0.6803 - f1_score: 0.0023 - loss: 4.9876"
     ]
    },
    {
     "name": "stderr",
     "output_type": "stream",
     "text": [
      "WARNING:absl:You are saving your model as an HDF5 file via `model.save()` or `keras.saving.save_model(model)`. This file format is considered legacy. We recommend using instead the native Keras format, e.g. `model.save('my_model.keras')` or `keras.saving.save_model(model, 'my_model.keras')`. \n"
     ]
    },
    {
     "name": "stdout",
     "output_type": "stream",
     "text": [
      "\u001b[1m105/105\u001b[0m \u001b[32m━━━━━━━━━━━━━━━━━━━━\u001b[0m\u001b[37m\u001b[0m \u001b[1m601s\u001b[0m 6s/step - accuracy: 0.0322 - auc: 0.6804 - f1_score: 0.0023 - loss: 4.9875 - val_accuracy: 0.0401 - val_auc: 0.6926 - val_f1_score: 0.0021 - val_loss: 4.9137\n",
      "Epoch 5/12\n",
      "\u001b[1m105/105\u001b[0m \u001b[32m━━━━━━━━━━━━━━━━━━━━\u001b[0m\u001b[37m\u001b[0m \u001b[1m0s\u001b[0m 5s/step - accuracy: 0.0319 - auc: 0.6817 - f1_score: 0.0024 - loss: 4.9745"
     ]
    },
    {
     "name": "stderr",
     "output_type": "stream",
     "text": [
      "WARNING:absl:You are saving your model as an HDF5 file via `model.save()` or `keras.saving.save_model(model)`. This file format is considered legacy. We recommend using instead the native Keras format, e.g. `model.save('my_model.keras')` or `keras.saving.save_model(model, 'my_model.keras')`. \n"
     ]
    },
    {
     "name": "stdout",
     "output_type": "stream",
     "text": [
      "\u001b[1m105/105\u001b[0m \u001b[32m━━━━━━━━━━━━━━━━━━━━\u001b[0m\u001b[37m\u001b[0m \u001b[1m603s\u001b[0m 6s/step - accuracy: 0.0319 - auc: 0.6817 - f1_score: 0.0024 - loss: 4.9743 - val_accuracy: 0.0479 - val_auc: 0.6985 - val_f1_score: 0.0027 - val_loss: 4.9068\n",
      "Epoch 6/12\n",
      "\u001b[1m105/105\u001b[0m \u001b[32m━━━━━━━━━━━━━━━━━━━━\u001b[0m\u001b[37m\u001b[0m \u001b[1m596s\u001b[0m 6s/step - accuracy: 0.0363 - auc: 0.6860 - f1_score: 0.0026 - loss: 4.9521 - val_accuracy: 0.0512 - val_auc: 0.6942 - val_f1_score: 0.0025 - val_loss: 4.9145\n",
      "Epoch 7/12\n",
      "\u001b[1m105/105\u001b[0m \u001b[32m━━━━━━━━━━━━━━━━━━━━\u001b[0m\u001b[37m\u001b[0m \u001b[1m0s\u001b[0m 4s/step - accuracy: 0.0338 - auc: 0.6918 - f1_score: 0.0027 - loss: 4.9441"
     ]
    },
    {
     "name": "stderr",
     "output_type": "stream",
     "text": [
      "WARNING:absl:You are saving your model as an HDF5 file via `model.save()` or `keras.saving.save_model(model)`. This file format is considered legacy. We recommend using instead the native Keras format, e.g. `model.save('my_model.keras')` or `keras.saving.save_model(model, 'my_model.keras')`. \n"
     ]
    },
    {
     "name": "stdout",
     "output_type": "stream",
     "text": [
      "\u001b[1m105/105\u001b[0m \u001b[32m━━━━━━━━━━━━━━━━━━━━\u001b[0m\u001b[37m\u001b[0m \u001b[1m601s\u001b[0m 6s/step - accuracy: 0.0338 - auc: 0.6918 - f1_score: 0.0027 - loss: 4.9439 - val_accuracy: 0.0401 - val_auc: 0.6985 - val_f1_score: 0.0029 - val_loss: 4.8896\n",
      "Epoch 8/12\n",
      "\u001b[1m105/105\u001b[0m \u001b[32m━━━━━━━━━━━━━━━━━━━━\u001b[0m\u001b[37m\u001b[0m \u001b[1m0s\u001b[0m 5s/step - accuracy: 0.0368 - auc: 0.6907 - f1_score: 0.0025 - loss: 4.9401"
     ]
    },
    {
     "name": "stderr",
     "output_type": "stream",
     "text": [
      "WARNING:absl:You are saving your model as an HDF5 file via `model.save()` or `keras.saving.save_model(model)`. This file format is considered legacy. We recommend using instead the native Keras format, e.g. `model.save('my_model.keras')` or `keras.saving.save_model(model, 'my_model.keras')`. \n"
     ]
    },
    {
     "name": "stdout",
     "output_type": "stream",
     "text": [
      "\u001b[1m105/105\u001b[0m \u001b[32m━━━━━━━━━━━━━━━━━━━━\u001b[0m\u001b[37m\u001b[0m \u001b[1m607s\u001b[0m 6s/step - accuracy: 0.0368 - auc: 0.6907 - f1_score: 0.0025 - loss: 4.9399 - val_accuracy: 0.0395 - val_auc: 0.6982 - val_f1_score: 0.0023 - val_loss: 4.8861\n",
      "Epoch 9/12\n",
      "\u001b[1m105/105\u001b[0m \u001b[32m━━━━━━━━━━━━━━━━━━━━\u001b[0m\u001b[37m\u001b[0m \u001b[1m0s\u001b[0m 5s/step - accuracy: 0.0398 - auc: 0.6942 - f1_score: 0.0027 - loss: 4.9248"
     ]
    },
    {
     "name": "stderr",
     "output_type": "stream",
     "text": [
      "WARNING:absl:You are saving your model as an HDF5 file via `model.save()` or `keras.saving.save_model(model)`. This file format is considered legacy. We recommend using instead the native Keras format, e.g. `model.save('my_model.keras')` or `keras.saving.save_model(model, 'my_model.keras')`. \n"
     ]
    },
    {
     "name": "stdout",
     "output_type": "stream",
     "text": [
      "\u001b[1m105/105\u001b[0m \u001b[32m━━━━━━━━━━━━━━━━━━━━\u001b[0m\u001b[37m\u001b[0m \u001b[1m603s\u001b[0m 6s/step - accuracy: 0.0398 - auc: 0.6943 - f1_score: 0.0027 - loss: 4.9247 - val_accuracy: 0.0473 - val_auc: 0.6996 - val_f1_score: 0.0039 - val_loss: 4.8840\n",
      "Epoch 10/12\n",
      "\u001b[1m105/105\u001b[0m \u001b[32m━━━━━━━━━━━━━━━━━━━━\u001b[0m\u001b[37m\u001b[0m \u001b[1m604s\u001b[0m 6s/step - accuracy: 0.0402 - auc: 0.6939 - f1_score: 0.0031 - loss: 4.9184 - val_accuracy: 0.0495 - val_auc: 0.6982 - val_f1_score: 0.0033 - val_loss: 4.8942\n",
      "Epoch 11/12\n",
      "\u001b[1m105/105\u001b[0m \u001b[32m━━━━━━━━━━━━━━━━━━━━\u001b[0m\u001b[37m\u001b[0m \u001b[1m0s\u001b[0m 5s/step - accuracy: 0.0370 - auc: 0.6957 - f1_score: 0.0029 - loss: 4.9167"
     ]
    },
    {
     "name": "stderr",
     "output_type": "stream",
     "text": [
      "WARNING:absl:You are saving your model as an HDF5 file via `model.save()` or `keras.saving.save_model(model)`. This file format is considered legacy. We recommend using instead the native Keras format, e.g. `model.save('my_model.keras')` or `keras.saving.save_model(model, 'my_model.keras')`. \n"
     ]
    },
    {
     "name": "stdout",
     "output_type": "stream",
     "text": [
      "\u001b[1m105/105\u001b[0m \u001b[32m━━━━━━━━━━━━━━━━━━━━\u001b[0m\u001b[37m\u001b[0m \u001b[1m607s\u001b[0m 6s/step - accuracy: 0.0370 - auc: 0.6957 - f1_score: 0.0029 - loss: 4.9165 - val_accuracy: 0.0434 - val_auc: 0.7070 - val_f1_score: 0.0028 - val_loss: 4.8758\n",
      "Epoch 12/12\n",
      "\u001b[1m105/105\u001b[0m \u001b[32m━━━━━━━━━━━━━━━━━━━━\u001b[0m\u001b[37m\u001b[0m \u001b[1m600s\u001b[0m 6s/step - accuracy: 0.0410 - auc: 0.7006 - f1_score: 0.0034 - loss: 4.8997 - val_accuracy: 0.0434 - val_auc: 0.7044 - val_f1_score: 0.0024 - val_loss: 4.8766\n",
      "Test loss: 4.84375, Test accuracy: 0.04894326999783516\n"
     ]
    }
   ],
   "source": [
    "# build model\n",
    "resnet_model_2 = ResNet50(weights='imagenet', include_top=False, input_shape=input_shape)\n",
    "\n",
    "# freezing the layers of the base resnet so its not trained\n",
    "resnet_model_2.trainable = False\n",
    "\n",
    "# adding more layers\n",
    "model = tf.keras.Sequential([\n",
    "    resnet_model_2,\n",
    "    layers.GlobalAveragePooling2D(),\n",
    "    layers.Dense(1024, activation='relu'),\n",
    "    layers.Dropout(0.5),\n",
    "    layers.Dense(n_classes, activation='softmax')\n",
    "])\n",
    "\n",
    "# compiling\n",
    "optimizer = Adam(learning_rate=0.001)\n",
    "loss = CategoricalCrossentropy(name=\"loss\")\n",
    "\n",
    "# metrics\n",
    "categorical_accuracy = CategoricalAccuracy(name=\"accuracy\")\n",
    "auc = AUC(name=\"auc\")\n",
    "f1_score = F1Score(average=\"macro\", name=\"f1_score\")\n",
    "metrics = [categorical_accuracy, auc, f1_score]\n",
    "\n",
    "model.compile(loss=loss, optimizer=optimizer, metrics=metrics)\n",
    "\n",
    "model.summary()\n",
    "epochs = 12\n",
    "\n",
    "checkpoint_cb = ModelCheckpoint(\"best_model.h5\", save_best_only=True, monitor='val_loss', mode='min') # usefull to save the best epoch of the model\n",
    "\n",
    "history = model.fit(\n",
    "    train_ds_sample_aug,\n",
    "    validation_data=val_ds,\n",
    "    epochs=epochs,\n",
    "    verbose=1,\n",
    "    callbacks=[checkpoint_cb]\n",
    ")\n",
    "\n",
    "# results\n",
    "eval_results = model.evaluate(test_ds, return_dict=True, verbose=0)\n",
    "print(f\"Test loss: {eval_results['loss']}, Test accuracy: {eval_results['accuracy']}\")"
   ]
  },
  {
   "cell_type": "code",
   "execution_count": null,
   "metadata": {
    "id": "c4OISYmU4Rhf",
    "outputId": "e238440a-b4cf-4a7f-d25d-979e213fd73e"
   },
   "outputs": [
    {
     "name": "stdout",
     "output_type": "stream",
     "text": [
      "Epoch 1/10\n",
      "\u001b[1m105/105\u001b[0m \u001b[32m━━━━━━━━━━━━━━━━━━━━\u001b[0m\u001b[37m\u001b[0m \u001b[1m684s\u001b[0m 6s/step - accuracy: 0.0461 - auc: 0.7037 - f1_score: 0.0038 - loss: 4.9829 - val_accuracy: 0.0345 - val_auc: 0.6852 - val_f1_score: 0.0012 - val_loss: 4.9925\n",
      "Epoch 2/10\n",
      "\u001b[1m105/105\u001b[0m \u001b[32m━━━━━━━━━━━━━━━━━━━━\u001b[0m\u001b[37m\u001b[0m \u001b[1m657s\u001b[0m 6s/step - accuracy: 0.0491 - auc: 0.7083 - f1_score: 0.0065 - loss: 4.8462 - val_accuracy: 0.0390 - val_auc: 0.6941 - val_f1_score: 0.0022 - val_loss: 4.9411\n",
      "Epoch 3/10\n",
      "\u001b[1m105/105\u001b[0m \u001b[32m━━━━━━━━━━━━━━━━━━━━\u001b[0m\u001b[37m\u001b[0m \u001b[1m665s\u001b[0m 6s/step - accuracy: 0.0486 - auc: 0.7135 - f1_score: 0.0054 - loss: 4.8197 - val_accuracy: 0.0501 - val_auc: 0.7094 - val_f1_score: 0.0056 - val_loss: 4.8497\n",
      "Epoch 4/10\n",
      "\u001b[1m105/105\u001b[0m \u001b[32m━━━━━━━━━━━━━━━━━━━━\u001b[0m\u001b[37m\u001b[0m \u001b[1m674s\u001b[0m 6s/step - accuracy: 0.0558 - auc: 0.7227 - f1_score: 0.0076 - loss: 4.7786 - val_accuracy: 0.0651 - val_auc: 0.7132 - val_f1_score: 0.0094 - val_loss: 4.8086\n",
      "Epoch 5/10\n",
      "\u001b[1m105/105\u001b[0m \u001b[32m━━━━━━━━━━━━━━━━━━━━\u001b[0m\u001b[37m\u001b[0m \u001b[1m662s\u001b[0m 6s/step - accuracy: 0.0644 - auc: 0.7245 - f1_score: 0.0085 - loss: 4.7558 - val_accuracy: 0.0607 - val_auc: 0.7071 - val_f1_score: 0.0101 - val_loss: 4.8469\n",
      "Epoch 6/10\n",
      "\u001b[1m105/105\u001b[0m \u001b[32m━━━━━━━━━━━━━━━━━━━━\u001b[0m\u001b[37m\u001b[0m \u001b[1m666s\u001b[0m 6s/step - accuracy: 0.0713 - auc: 0.7327 - f1_score: 0.0138 - loss: 4.7076 - val_accuracy: 0.0696 - val_auc: 0.7249 - val_f1_score: 0.0114 - val_loss: 4.7561\n",
      "Epoch 7/10\n",
      "\u001b[1m105/105\u001b[0m \u001b[32m━━━━━━━━━━━━━━━━━━━━\u001b[0m\u001b[37m\u001b[0m \u001b[1m663s\u001b[0m 6s/step - accuracy: 0.0689 - auc: 0.7371 - f1_score: 0.0122 - loss: 4.6851 - val_accuracy: 0.0634 - val_auc: 0.7218 - val_f1_score: 0.0097 - val_loss: 4.7889\n",
      "Epoch 8/10\n",
      "\u001b[1m105/105\u001b[0m \u001b[32m━━━━━━━━━━━━━━━━━━━━\u001b[0m\u001b[37m\u001b[0m \u001b[1m694s\u001b[0m 7s/step - accuracy: 0.0740 - auc: 0.7349 - f1_score: 0.0141 - loss: 4.6698 - val_accuracy: 0.0757 - val_auc: 0.7191 - val_f1_score: 0.0158 - val_loss: 4.7997\n",
      "Epoch 9/10\n",
      "\u001b[1m105/105\u001b[0m \u001b[32m━━━━━━━━━━━━━━━━━━━━\u001b[0m\u001b[37m\u001b[0m \u001b[1m724s\u001b[0m 7s/step - accuracy: 0.0744 - auc: 0.7454 - f1_score: 0.0137 - loss: 4.6361 - val_accuracy: 0.0957 - val_auc: 0.7337 - val_f1_score: 0.0177 - val_loss: 4.6819\n",
      "Epoch 10/10\n",
      "\u001b[1m105/105\u001b[0m \u001b[32m━━━━━━━━━━━━━━━━━━━━\u001b[0m\u001b[37m\u001b[0m \u001b[1m685s\u001b[0m 6s/step - accuracy: 0.0905 - auc: 0.7480 - f1_score: 0.0209 - loss: 4.5981 - val_accuracy: 0.0907 - val_auc: 0.7363 - val_f1_score: 0.0180 - val_loss: 4.6582\n",
      "Test loss: 4.604957580566406, Test accuracy: 0.09844271093606949\n"
     ]
    }
   ],
   "source": [
    "# finetuning our model by unfreezing the last 10 layers with a lower learning rate to learn more about high-level features\n",
    "\n",
    "for layer in resnet_model_2.layers[-10:]:\n",
    "    layer.trainable = True\n",
    "\n",
    "# compiling the model again\n",
    "model.compile(optimizer=Adam(learning_rate=0.0001), loss=loss, metrics=metrics)\n",
    "\n",
    "history_finetune = model.fit(\n",
    "    train_ds_sample_aug,\n",
    "    validation_data=val_ds,\n",
    "    epochs=10,\n",
    "    verbose=1\n",
    ")\n",
    "\n",
    "eval_results = model.evaluate(test_ds, return_dict=True, verbose=0)\n",
    "print(f\"Test loss: {eval_results['loss']}, Test accuracy: {eval_results['accuracy']}\")"
   ]
  },
  {
   "cell_type": "markdown",
   "metadata": {
    "id": "4X-c8-gnnwvJ"
   },
   "source": [
    "# EFFICIENTNETB3_CUSTOM"
   ]
  },
  {
   "cell_type": "code",
   "execution_count": null,
   "metadata": {
    "id": "Ke__ciZ-o_XT",
    "outputId": "667aa5e5-8ce0-4a1f-e0d5-53b5c66c6a55"
   },
   "outputs": [
    {
     "name": "stdout",
     "output_type": "stream",
     "text": [
      "Found 8388 images belonging to 202 classes.\n",
      "Found 1797 images belonging to 202 classes.\n",
      "Found 1798 images belonging to 202 classes.\n"
     ]
    },
    {
     "name": "stderr",
     "output_type": "stream",
     "text": [
      "c:\\Users\\maria\\anaconda3\\envs\\DeepLearning\\Lib\\site-packages\\keras\\src\\trainers\\data_adapters\\py_dataset_adapter.py:121: UserWarning: Your `PyDataset` class should call `super().__init__(**kwargs)` in its constructor. `**kwargs` can include `workers`, `use_multiprocessing`, `max_queue_size`. Do not pass these arguments to `fit()`, as they will be ignored.\n",
      "  self._warn_if_super_not_called()\n"
     ]
    },
    {
     "name": "stdout",
     "output_type": "stream",
     "text": [
      "Epoch 1/15\n",
      "\u001b[1m 12/263\u001b[0m \u001b[37m━━━━━━━━━━━━━━━━━━━━\u001b[0m \u001b[1m12:14\u001b[0m 3s/step - accuracy: 0.0164 - loss: 5.4126"
     ]
    },
    {
     "name": "stderr",
     "output_type": "stream",
     "text": [
      "c:\\Users\\maria\\anaconda3\\envs\\DeepLearning\\Lib\\site-packages\\PIL\\Image.py:3442: DecompressionBombWarning: Image size (115600000 pixels) exceeds limit of 89478485 pixels, could be decompression bomb DOS attack.\n",
      "  warnings.warn(\n"
     ]
    },
    {
     "name": "stdout",
     "output_type": "stream",
     "text": [
      "\u001b[1m263/263\u001b[0m \u001b[32m━━━━━━━━━━━━━━━━━━━━\u001b[0m\u001b[37m\u001b[0m \u001b[1m815s\u001b[0m 3s/step - accuracy: 0.0054 - loss: 5.5857 - val_accuracy: 0.0039 - val_loss: 5.3894 - learning_rate: 0.0010\n",
      "Epoch 2/15\n",
      "\u001b[1m263/263\u001b[0m \u001b[32m━━━━━━━━━━━━━━━━━━━━\u001b[0m\u001b[37m\u001b[0m \u001b[1m791s\u001b[0m 3s/step - accuracy: 0.0033 - loss: 5.4457 - val_accuracy: 0.0045 - val_loss: 5.3630 - learning_rate: 0.0010\n",
      "Epoch 3/15\n",
      "\u001b[1m263/263\u001b[0m \u001b[32m━━━━━━━━━━━━━━━━━━━━\u001b[0m\u001b[37m\u001b[0m \u001b[1m881s\u001b[0m 3s/step - accuracy: 0.0033 - loss: 5.4381 - val_accuracy: 0.0028 - val_loss: 5.3073 - learning_rate: 0.0010\n",
      "Epoch 4/15\n",
      "\u001b[1m263/263\u001b[0m \u001b[32m━━━━━━━━━━━━━━━━━━━━\u001b[0m\u001b[37m\u001b[0m \u001b[1m782s\u001b[0m 3s/step - accuracy: 0.0039 - loss: 5.4964 - val_accuracy: 0.0067 - val_loss: 5.3089 - learning_rate: 0.0010\n",
      "Epoch 5/15\n",
      "\u001b[1m263/263\u001b[0m \u001b[32m━━━━━━━━━━━━━━━━━━━━\u001b[0m\u001b[37m\u001b[0m \u001b[1m799s\u001b[0m 3s/step - accuracy: 0.0029 - loss: 5.4114 - val_accuracy: 0.0083 - val_loss: 5.2821 - learning_rate: 0.0010\n",
      "Epoch 6/15\n",
      "\u001b[1m263/263\u001b[0m \u001b[32m━━━━━━━━━━━━━━━━━━━━\u001b[0m\u001b[37m\u001b[0m \u001b[1m780s\u001b[0m 3s/step - accuracy: 0.0047 - loss: 5.3726 - val_accuracy: 0.0067 - val_loss: 5.2623 - learning_rate: 0.0010\n",
      "Epoch 7/15\n",
      "\u001b[1m263/263\u001b[0m \u001b[32m━━━━━━━━━━━━━━━━━━━━\u001b[0m\u001b[37m\u001b[0m \u001b[1m838s\u001b[0m 3s/step - accuracy: 0.0034 - loss: 5.4131 - val_accuracy: 0.0028 - val_loss: 5.2783 - learning_rate: 0.0010\n",
      "Epoch 8/15\n",
      "\u001b[1m263/263\u001b[0m \u001b[32m━━━━━━━━━━━━━━━━━━━━\u001b[0m\u001b[37m\u001b[0m \u001b[1m854s\u001b[0m 3s/step - accuracy: 0.0048 - loss: 5.4800 - val_accuracy: 0.0067 - val_loss: 5.3005 - learning_rate: 0.0010\n",
      "Epoch 9/15\n",
      "\u001b[1m 63/263\u001b[0m \u001b[32m━━━━\u001b[0m\u001b[37m━━━━━━━━━━━━━━━━\u001b[0m \u001b[1m9:11\u001b[0m 3s/step - accuracy: 0.0053 - loss: 5.3406"
     ]
    },
    {
     "ename": "KeyboardInterrupt",
     "evalue": "",
     "output_type": "error",
     "traceback": [
      "\u001b[31m---------------------------------------------------------------------------\u001b[39m",
      "\u001b[31mKeyboardInterrupt\u001b[39m                         Traceback (most recent call last)",
      "\u001b[36mCell\u001b[39m\u001b[36m \u001b[39m\u001b[32mIn[30]\u001b[39m\u001b[32m, line 97\u001b[39m\n\u001b[32m     91\u001b[39m callbacks = [\n\u001b[32m     92\u001b[39m     EarlyStopping(patience=\u001b[32m4\u001b[39m, restore_best_weights=\u001b[38;5;28;01mTrue\u001b[39;00m),\n\u001b[32m     93\u001b[39m     ReduceLROnPlateau(factor=\u001b[32m0.2\u001b[39m, patience=\u001b[32m2\u001b[39m, min_lr=\u001b[32m1e-6\u001b[39m)\n\u001b[32m     94\u001b[39m ]\n\u001b[32m     96\u001b[39m \u001b[38;5;66;03m# Train the model\u001b[39;00m\n\u001b[32m---> \u001b[39m\u001b[32m97\u001b[39m history = \u001b[43mmodel\u001b[49m\u001b[43m.\u001b[49m\u001b[43mfit\u001b[49m\u001b[43m(\u001b[49m\n\u001b[32m     98\u001b[39m \u001b[43m    \u001b[49m\u001b[43mtrain_ds\u001b[49m\u001b[43m,\u001b[49m\n\u001b[32m     99\u001b[39m \u001b[43m    \u001b[49m\u001b[43mvalidation_data\u001b[49m\u001b[43m=\u001b[49m\u001b[43mval_ds\u001b[49m\u001b[43m,\u001b[49m\n\u001b[32m    100\u001b[39m \u001b[43m    \u001b[49m\u001b[43mepochs\u001b[49m\u001b[43m=\u001b[49m\u001b[43mEPOCHS\u001b[49m\u001b[43m,\u001b[49m\n\u001b[32m    101\u001b[39m \u001b[43m    \u001b[49m\u001b[43mcallbacks\u001b[49m\u001b[43m=\u001b[49m\u001b[43mcallbacks\u001b[49m\u001b[43m,\u001b[49m\n\u001b[32m    102\u001b[39m \u001b[43m    \u001b[49m\u001b[43mclass_weight\u001b[49m\u001b[43m=\u001b[49m\u001b[43mclass_weights\u001b[49m\u001b[43m  \u001b[49m\u001b[38;5;66;43;03m# If using class weights\u001b[39;49;00m\n\u001b[32m    103\u001b[39m \u001b[43m)\u001b[49m\n\u001b[32m    105\u001b[39m \u001b[38;5;66;03m# ========== FINE-TUNING ==========\u001b[39;00m\n\u001b[32m    106\u001b[39m \n\u001b[32m    107\u001b[39m \u001b[38;5;66;03m# Unfreeze the base model for fine-tuning\u001b[39;00m\n\u001b[32m    108\u001b[39m base_model.trainable = \u001b[38;5;28;01mTrue\u001b[39;00m\n",
      "\u001b[36mFile \u001b[39m\u001b[32mc:\\Users\\maria\\anaconda3\\envs\\DeepLearning\\Lib\\site-packages\\keras\\src\\utils\\traceback_utils.py:117\u001b[39m, in \u001b[36mfilter_traceback.<locals>.error_handler\u001b[39m\u001b[34m(*args, **kwargs)\u001b[39m\n\u001b[32m    115\u001b[39m filtered_tb = \u001b[38;5;28;01mNone\u001b[39;00m\n\u001b[32m    116\u001b[39m \u001b[38;5;28;01mtry\u001b[39;00m:\n\u001b[32m--> \u001b[39m\u001b[32m117\u001b[39m     \u001b[38;5;28;01mreturn\u001b[39;00m \u001b[43mfn\u001b[49m\u001b[43m(\u001b[49m\u001b[43m*\u001b[49m\u001b[43margs\u001b[49m\u001b[43m,\u001b[49m\u001b[43m \u001b[49m\u001b[43m*\u001b[49m\u001b[43m*\u001b[49m\u001b[43mkwargs\u001b[49m\u001b[43m)\u001b[49m\n\u001b[32m    118\u001b[39m \u001b[38;5;28;01mexcept\u001b[39;00m \u001b[38;5;167;01mException\u001b[39;00m \u001b[38;5;28;01mas\u001b[39;00m e:\n\u001b[32m    119\u001b[39m     filtered_tb = _process_traceback_frames(e.__traceback__)\n",
      "\u001b[36mFile \u001b[39m\u001b[32mc:\\Users\\maria\\anaconda3\\envs\\DeepLearning\\Lib\\site-packages\\keras\\src\\backend\\tensorflow\\trainer.py:371\u001b[39m, in \u001b[36mTensorFlowTrainer.fit\u001b[39m\u001b[34m(self, x, y, batch_size, epochs, verbose, callbacks, validation_split, validation_data, shuffle, class_weight, sample_weight, initial_epoch, steps_per_epoch, validation_steps, validation_batch_size, validation_freq)\u001b[39m\n\u001b[32m    369\u001b[39m \u001b[38;5;28;01mfor\u001b[39;00m step, iterator \u001b[38;5;129;01min\u001b[39;00m epoch_iterator:\n\u001b[32m    370\u001b[39m     callbacks.on_train_batch_begin(step)\n\u001b[32m--> \u001b[39m\u001b[32m371\u001b[39m     logs = \u001b[38;5;28;43mself\u001b[39;49m\u001b[43m.\u001b[49m\u001b[43mtrain_function\u001b[49m\u001b[43m(\u001b[49m\u001b[43miterator\u001b[49m\u001b[43m)\u001b[49m\n\u001b[32m    372\u001b[39m     callbacks.on_train_batch_end(step, logs)\n\u001b[32m    373\u001b[39m     \u001b[38;5;28;01mif\u001b[39;00m \u001b[38;5;28mself\u001b[39m.stop_training:\n",
      "\u001b[36mFile \u001b[39m\u001b[32mc:\\Users\\maria\\anaconda3\\envs\\DeepLearning\\Lib\\site-packages\\keras\\src\\backend\\tensorflow\\trainer.py:219\u001b[39m, in \u001b[36mTensorFlowTrainer._make_function.<locals>.function\u001b[39m\u001b[34m(iterator)\u001b[39m\n\u001b[32m    215\u001b[39m \u001b[38;5;28;01mdef\u001b[39;00m\u001b[38;5;250m \u001b[39m\u001b[34mfunction\u001b[39m(iterator):\n\u001b[32m    216\u001b[39m     \u001b[38;5;28;01mif\u001b[39;00m \u001b[38;5;28misinstance\u001b[39m(\n\u001b[32m    217\u001b[39m         iterator, (tf.data.Iterator, tf.distribute.DistributedIterator)\n\u001b[32m    218\u001b[39m     ):\n\u001b[32m--> \u001b[39m\u001b[32m219\u001b[39m         opt_outputs = \u001b[43mmulti_step_on_iterator\u001b[49m\u001b[43m(\u001b[49m\u001b[43miterator\u001b[49m\u001b[43m)\u001b[49m\n\u001b[32m    220\u001b[39m         \u001b[38;5;28;01mif\u001b[39;00m \u001b[38;5;129;01mnot\u001b[39;00m opt_outputs.has_value():\n\u001b[32m    221\u001b[39m             \u001b[38;5;28;01mraise\u001b[39;00m \u001b[38;5;167;01mStopIteration\u001b[39;00m\n",
      "\u001b[36mFile \u001b[39m\u001b[32mc:\\Users\\maria\\anaconda3\\envs\\DeepLearning\\Lib\\site-packages\\tensorflow\\python\\util\\traceback_utils.py:150\u001b[39m, in \u001b[36mfilter_traceback.<locals>.error_handler\u001b[39m\u001b[34m(*args, **kwargs)\u001b[39m\n\u001b[32m    148\u001b[39m filtered_tb = \u001b[38;5;28;01mNone\u001b[39;00m\n\u001b[32m    149\u001b[39m \u001b[38;5;28;01mtry\u001b[39;00m:\n\u001b[32m--> \u001b[39m\u001b[32m150\u001b[39m   \u001b[38;5;28;01mreturn\u001b[39;00m \u001b[43mfn\u001b[49m\u001b[43m(\u001b[49m\u001b[43m*\u001b[49m\u001b[43margs\u001b[49m\u001b[43m,\u001b[49m\u001b[43m \u001b[49m\u001b[43m*\u001b[49m\u001b[43m*\u001b[49m\u001b[43mkwargs\u001b[49m\u001b[43m)\u001b[49m\n\u001b[32m    151\u001b[39m \u001b[38;5;28;01mexcept\u001b[39;00m \u001b[38;5;167;01mException\u001b[39;00m \u001b[38;5;28;01mas\u001b[39;00m e:\n\u001b[32m    152\u001b[39m   filtered_tb = _process_traceback_frames(e.__traceback__)\n",
      "\u001b[36mFile \u001b[39m\u001b[32mc:\\Users\\maria\\anaconda3\\envs\\DeepLearning\\Lib\\site-packages\\tensorflow\\python\\eager\\polymorphic_function\\polymorphic_function.py:833\u001b[39m, in \u001b[36mFunction.__call__\u001b[39m\u001b[34m(self, *args, **kwds)\u001b[39m\n\u001b[32m    830\u001b[39m compiler = \u001b[33m\"\u001b[39m\u001b[33mxla\u001b[39m\u001b[33m\"\u001b[39m \u001b[38;5;28;01mif\u001b[39;00m \u001b[38;5;28mself\u001b[39m._jit_compile \u001b[38;5;28;01melse\u001b[39;00m \u001b[33m\"\u001b[39m\u001b[33mnonXla\u001b[39m\u001b[33m\"\u001b[39m\n\u001b[32m    832\u001b[39m \u001b[38;5;28;01mwith\u001b[39;00m OptionalXlaContext(\u001b[38;5;28mself\u001b[39m._jit_compile):\n\u001b[32m--> \u001b[39m\u001b[32m833\u001b[39m   result = \u001b[38;5;28;43mself\u001b[39;49m\u001b[43m.\u001b[49m\u001b[43m_call\u001b[49m\u001b[43m(\u001b[49m\u001b[43m*\u001b[49m\u001b[43margs\u001b[49m\u001b[43m,\u001b[49m\u001b[43m \u001b[49m\u001b[43m*\u001b[49m\u001b[43m*\u001b[49m\u001b[43mkwds\u001b[49m\u001b[43m)\u001b[49m\n\u001b[32m    835\u001b[39m new_tracing_count = \u001b[38;5;28mself\u001b[39m.experimental_get_tracing_count()\n\u001b[32m    836\u001b[39m without_tracing = (tracing_count == new_tracing_count)\n",
      "\u001b[36mFile \u001b[39m\u001b[32mc:\\Users\\maria\\anaconda3\\envs\\DeepLearning\\Lib\\site-packages\\tensorflow\\python\\eager\\polymorphic_function\\polymorphic_function.py:878\u001b[39m, in \u001b[36mFunction._call\u001b[39m\u001b[34m(self, *args, **kwds)\u001b[39m\n\u001b[32m    875\u001b[39m \u001b[38;5;28mself\u001b[39m._lock.release()\n\u001b[32m    876\u001b[39m \u001b[38;5;66;03m# In this case we have not created variables on the first call. So we can\u001b[39;00m\n\u001b[32m    877\u001b[39m \u001b[38;5;66;03m# run the first trace but we should fail if variables are created.\u001b[39;00m\n\u001b[32m--> \u001b[39m\u001b[32m878\u001b[39m results = \u001b[43mtracing_compilation\u001b[49m\u001b[43m.\u001b[49m\u001b[43mcall_function\u001b[49m\u001b[43m(\u001b[49m\n\u001b[32m    879\u001b[39m \u001b[43m    \u001b[49m\u001b[43margs\u001b[49m\u001b[43m,\u001b[49m\u001b[43m \u001b[49m\u001b[43mkwds\u001b[49m\u001b[43m,\u001b[49m\u001b[43m \u001b[49m\u001b[38;5;28;43mself\u001b[39;49m\u001b[43m.\u001b[49m\u001b[43m_variable_creation_config\u001b[49m\n\u001b[32m    880\u001b[39m \u001b[43m\u001b[49m\u001b[43m)\u001b[49m\n\u001b[32m    881\u001b[39m \u001b[38;5;28;01mif\u001b[39;00m \u001b[38;5;28mself\u001b[39m._created_variables:\n\u001b[32m    882\u001b[39m   \u001b[38;5;28;01mraise\u001b[39;00m \u001b[38;5;167;01mValueError\u001b[39;00m(\u001b[33m\"\u001b[39m\u001b[33mCreating variables on a non-first call to a function\u001b[39m\u001b[33m\"\u001b[39m\n\u001b[32m    883\u001b[39m                    \u001b[33m\"\u001b[39m\u001b[33m decorated with tf.function.\u001b[39m\u001b[33m\"\u001b[39m)\n",
      "\u001b[36mFile \u001b[39m\u001b[32mc:\\Users\\maria\\anaconda3\\envs\\DeepLearning\\Lib\\site-packages\\tensorflow\\python\\eager\\polymorphic_function\\tracing_compilation.py:139\u001b[39m, in \u001b[36mcall_function\u001b[39m\u001b[34m(args, kwargs, tracing_options)\u001b[39m\n\u001b[32m    137\u001b[39m bound_args = function.function_type.bind(*args, **kwargs)\n\u001b[32m    138\u001b[39m flat_inputs = function.function_type.unpack_inputs(bound_args)\n\u001b[32m--> \u001b[39m\u001b[32m139\u001b[39m \u001b[38;5;28;01mreturn\u001b[39;00m \u001b[43mfunction\u001b[49m\u001b[43m.\u001b[49m\u001b[43m_call_flat\u001b[49m\u001b[43m(\u001b[49m\u001b[43m  \u001b[49m\u001b[38;5;66;43;03m# pylint: disable=protected-access\u001b[39;49;00m\n\u001b[32m    140\u001b[39m \u001b[43m    \u001b[49m\u001b[43mflat_inputs\u001b[49m\u001b[43m,\u001b[49m\u001b[43m \u001b[49m\u001b[43mcaptured_inputs\u001b[49m\u001b[43m=\u001b[49m\u001b[43mfunction\u001b[49m\u001b[43m.\u001b[49m\u001b[43mcaptured_inputs\u001b[49m\n\u001b[32m    141\u001b[39m \u001b[43m\u001b[49m\u001b[43m)\u001b[49m\n",
      "\u001b[36mFile \u001b[39m\u001b[32mc:\\Users\\maria\\anaconda3\\envs\\DeepLearning\\Lib\\site-packages\\tensorflow\\python\\eager\\polymorphic_function\\concrete_function.py:1322\u001b[39m, in \u001b[36mConcreteFunction._call_flat\u001b[39m\u001b[34m(self, tensor_inputs, captured_inputs)\u001b[39m\n\u001b[32m   1318\u001b[39m possible_gradient_type = gradients_util.PossibleTapeGradientTypes(args)\n\u001b[32m   1319\u001b[39m \u001b[38;5;28;01mif\u001b[39;00m (possible_gradient_type == gradients_util.POSSIBLE_GRADIENT_TYPES_NONE\n\u001b[32m   1320\u001b[39m     \u001b[38;5;129;01mand\u001b[39;00m executing_eagerly):\n\u001b[32m   1321\u001b[39m   \u001b[38;5;66;03m# No tape is watching; skip to running the function.\u001b[39;00m\n\u001b[32m-> \u001b[39m\u001b[32m1322\u001b[39m   \u001b[38;5;28;01mreturn\u001b[39;00m \u001b[38;5;28;43mself\u001b[39;49m\u001b[43m.\u001b[49m\u001b[43m_inference_function\u001b[49m\u001b[43m.\u001b[49m\u001b[43mcall_preflattened\u001b[49m\u001b[43m(\u001b[49m\u001b[43margs\u001b[49m\u001b[43m)\u001b[49m\n\u001b[32m   1323\u001b[39m forward_backward = \u001b[38;5;28mself\u001b[39m._select_forward_and_backward_functions(\n\u001b[32m   1324\u001b[39m     args,\n\u001b[32m   1325\u001b[39m     possible_gradient_type,\n\u001b[32m   1326\u001b[39m     executing_eagerly)\n\u001b[32m   1327\u001b[39m forward_function, args_with_tangents = forward_backward.forward()\n",
      "\u001b[36mFile \u001b[39m\u001b[32mc:\\Users\\maria\\anaconda3\\envs\\DeepLearning\\Lib\\site-packages\\tensorflow\\python\\eager\\polymorphic_function\\atomic_function.py:216\u001b[39m, in \u001b[36mAtomicFunction.call_preflattened\u001b[39m\u001b[34m(self, args)\u001b[39m\n\u001b[32m    214\u001b[39m \u001b[38;5;28;01mdef\u001b[39;00m\u001b[38;5;250m \u001b[39m\u001b[34mcall_preflattened\u001b[39m(\u001b[38;5;28mself\u001b[39m, args: Sequence[core.Tensor]) -> Any:\n\u001b[32m    215\u001b[39m \u001b[38;5;250m  \u001b[39m\u001b[33;03m\"\"\"Calls with flattened tensor inputs and returns the structured output.\"\"\"\u001b[39;00m\n\u001b[32m--> \u001b[39m\u001b[32m216\u001b[39m   flat_outputs = \u001b[38;5;28;43mself\u001b[39;49m\u001b[43m.\u001b[49m\u001b[43mcall_flat\u001b[49m\u001b[43m(\u001b[49m\u001b[43m*\u001b[49m\u001b[43margs\u001b[49m\u001b[43m)\u001b[49m\n\u001b[32m    217\u001b[39m   \u001b[38;5;28;01mreturn\u001b[39;00m \u001b[38;5;28mself\u001b[39m.function_type.pack_output(flat_outputs)\n",
      "\u001b[36mFile \u001b[39m\u001b[32mc:\\Users\\maria\\anaconda3\\envs\\DeepLearning\\Lib\\site-packages\\tensorflow\\python\\eager\\polymorphic_function\\atomic_function.py:251\u001b[39m, in \u001b[36mAtomicFunction.call_flat\u001b[39m\u001b[34m(self, *args)\u001b[39m\n\u001b[32m    249\u001b[39m \u001b[38;5;28;01mwith\u001b[39;00m record.stop_recording():\n\u001b[32m    250\u001b[39m   \u001b[38;5;28;01mif\u001b[39;00m \u001b[38;5;28mself\u001b[39m._bound_context.executing_eagerly():\n\u001b[32m--> \u001b[39m\u001b[32m251\u001b[39m     outputs = \u001b[38;5;28;43mself\u001b[39;49m\u001b[43m.\u001b[49m\u001b[43m_bound_context\u001b[49m\u001b[43m.\u001b[49m\u001b[43mcall_function\u001b[49m\u001b[43m(\u001b[49m\n\u001b[32m    252\u001b[39m \u001b[43m        \u001b[49m\u001b[38;5;28;43mself\u001b[39;49m\u001b[43m.\u001b[49m\u001b[43mname\u001b[49m\u001b[43m,\u001b[49m\n\u001b[32m    253\u001b[39m \u001b[43m        \u001b[49m\u001b[38;5;28;43mlist\u001b[39;49m\u001b[43m(\u001b[49m\u001b[43margs\u001b[49m\u001b[43m)\u001b[49m\u001b[43m,\u001b[49m\n\u001b[32m    254\u001b[39m \u001b[43m        \u001b[49m\u001b[38;5;28;43mlen\u001b[39;49m\u001b[43m(\u001b[49m\u001b[38;5;28;43mself\u001b[39;49m\u001b[43m.\u001b[49m\u001b[43mfunction_type\u001b[49m\u001b[43m.\u001b[49m\u001b[43mflat_outputs\u001b[49m\u001b[43m)\u001b[49m\u001b[43m,\u001b[49m\n\u001b[32m    255\u001b[39m \u001b[43m    \u001b[49m\u001b[43m)\u001b[49m\n\u001b[32m    256\u001b[39m   \u001b[38;5;28;01melse\u001b[39;00m:\n\u001b[32m    257\u001b[39m     outputs = make_call_op_in_graph(\n\u001b[32m    258\u001b[39m         \u001b[38;5;28mself\u001b[39m,\n\u001b[32m    259\u001b[39m         \u001b[38;5;28mlist\u001b[39m(args),\n\u001b[32m    260\u001b[39m         \u001b[38;5;28mself\u001b[39m._bound_context.function_call_options.as_attrs(),\n\u001b[32m    261\u001b[39m     )\n",
      "\u001b[36mFile \u001b[39m\u001b[32mc:\\Users\\maria\\anaconda3\\envs\\DeepLearning\\Lib\\site-packages\\tensorflow\\python\\eager\\context.py:1688\u001b[39m, in \u001b[36mContext.call_function\u001b[39m\u001b[34m(self, name, tensor_inputs, num_outputs)\u001b[39m\n\u001b[32m   1686\u001b[39m cancellation_context = cancellation.context()\n\u001b[32m   1687\u001b[39m \u001b[38;5;28;01mif\u001b[39;00m cancellation_context \u001b[38;5;129;01mis\u001b[39;00m \u001b[38;5;28;01mNone\u001b[39;00m:\n\u001b[32m-> \u001b[39m\u001b[32m1688\u001b[39m   outputs = \u001b[43mexecute\u001b[49m\u001b[43m.\u001b[49m\u001b[43mexecute\u001b[49m\u001b[43m(\u001b[49m\n\u001b[32m   1689\u001b[39m \u001b[43m      \u001b[49m\u001b[43mname\u001b[49m\u001b[43m.\u001b[49m\u001b[43mdecode\u001b[49m\u001b[43m(\u001b[49m\u001b[33;43m\"\u001b[39;49m\u001b[33;43mutf-8\u001b[39;49m\u001b[33;43m\"\u001b[39;49m\u001b[43m)\u001b[49m\u001b[43m,\u001b[49m\n\u001b[32m   1690\u001b[39m \u001b[43m      \u001b[49m\u001b[43mnum_outputs\u001b[49m\u001b[43m=\u001b[49m\u001b[43mnum_outputs\u001b[49m\u001b[43m,\u001b[49m\n\u001b[32m   1691\u001b[39m \u001b[43m      \u001b[49m\u001b[43minputs\u001b[49m\u001b[43m=\u001b[49m\u001b[43mtensor_inputs\u001b[49m\u001b[43m,\u001b[49m\n\u001b[32m   1692\u001b[39m \u001b[43m      \u001b[49m\u001b[43mattrs\u001b[49m\u001b[43m=\u001b[49m\u001b[43mattrs\u001b[49m\u001b[43m,\u001b[49m\n\u001b[32m   1693\u001b[39m \u001b[43m      \u001b[49m\u001b[43mctx\u001b[49m\u001b[43m=\u001b[49m\u001b[38;5;28;43mself\u001b[39;49m\u001b[43m,\u001b[49m\n\u001b[32m   1694\u001b[39m \u001b[43m  \u001b[49m\u001b[43m)\u001b[49m\n\u001b[32m   1695\u001b[39m \u001b[38;5;28;01melse\u001b[39;00m:\n\u001b[32m   1696\u001b[39m   outputs = execute.execute_with_cancellation(\n\u001b[32m   1697\u001b[39m       name.decode(\u001b[33m\"\u001b[39m\u001b[33mutf-8\u001b[39m\u001b[33m\"\u001b[39m),\n\u001b[32m   1698\u001b[39m       num_outputs=num_outputs,\n\u001b[32m   (...)\u001b[39m\u001b[32m   1702\u001b[39m       cancellation_manager=cancellation_context,\n\u001b[32m   1703\u001b[39m   )\n",
      "\u001b[36mFile \u001b[39m\u001b[32mc:\\Users\\maria\\anaconda3\\envs\\DeepLearning\\Lib\\site-packages\\tensorflow\\python\\eager\\execute.py:53\u001b[39m, in \u001b[36mquick_execute\u001b[39m\u001b[34m(op_name, num_outputs, inputs, attrs, ctx, name)\u001b[39m\n\u001b[32m     51\u001b[39m \u001b[38;5;28;01mtry\u001b[39;00m:\n\u001b[32m     52\u001b[39m   ctx.ensure_initialized()\n\u001b[32m---> \u001b[39m\u001b[32m53\u001b[39m   tensors = \u001b[43mpywrap_tfe\u001b[49m\u001b[43m.\u001b[49m\u001b[43mTFE_Py_Execute\u001b[49m\u001b[43m(\u001b[49m\u001b[43mctx\u001b[49m\u001b[43m.\u001b[49m\u001b[43m_handle\u001b[49m\u001b[43m,\u001b[49m\u001b[43m \u001b[49m\u001b[43mdevice_name\u001b[49m\u001b[43m,\u001b[49m\u001b[43m \u001b[49m\u001b[43mop_name\u001b[49m\u001b[43m,\u001b[49m\n\u001b[32m     54\u001b[39m \u001b[43m                                      \u001b[49m\u001b[43minputs\u001b[49m\u001b[43m,\u001b[49m\u001b[43m \u001b[49m\u001b[43mattrs\u001b[49m\u001b[43m,\u001b[49m\u001b[43m \u001b[49m\u001b[43mnum_outputs\u001b[49m\u001b[43m)\u001b[49m\n\u001b[32m     55\u001b[39m \u001b[38;5;28;01mexcept\u001b[39;00m core._NotOkStatusException \u001b[38;5;28;01mas\u001b[39;00m e:\n\u001b[32m     56\u001b[39m   \u001b[38;5;28;01mif\u001b[39;00m name \u001b[38;5;129;01mis\u001b[39;00m \u001b[38;5;129;01mnot\u001b[39;00m \u001b[38;5;28;01mNone\u001b[39;00m:\n",
      "\u001b[31mKeyboardInterrupt\u001b[39m: "
     ]
    }
   ],
   "source": [
    "# pre-trained model\n",
    "base_model = EfficientNetB3(\n",
    "    include_top=False,\n",
    "    weights='imagenet',\n",
    "    input_shape=(IMG_SIZE, IMG_SIZE, 3)\n",
    ")\n",
    "base_model.trainable = False  # use trained layers\n",
    "\n",
    "# build\n",
    "inputs = tf.keras.Input(shape=(IMG_SIZE, IMG_SIZE, 3))\n",
    "x = base_model(inputs, training=False)\n",
    "x = layers.GlobalAveragePooling2D()(x)  # reduce dimensionality\n",
    "x = layers.Dropout(0.4)(x)\n",
    "outputs = layers.Dense(NUM_CLASSES, activation='softmax')(x)\n",
    "model = models.Model(inputs, outputs)\n",
    "\n",
    "model.compile(\n",
    "    optimizer=tf.keras.optimizers.Adam(0.001),\n",
    "    loss='sparse_categorical_crossentropy',\n",
    "    metrics=['accuracy']\n",
    ")\n",
    "\n",
    "class_weights = compute_class_weight(class_weight='balanced',\n",
    "                                     classes=np.arange(NUM_CLASSES),\n",
    "                                     y=train_ds.classes)\n",
    "class_weights = dict(enumerate(class_weights))\n",
    "\n",
    "# callbacks\n",
    "callbacks = [\n",
    "    EarlyStopping(patience=4, restore_best_weights=True),\n",
    "    ReduceLROnPlateau(factor=0.2, patience=2, min_lr=1e-6)\n",
    "]\n",
    "\n",
    "\n",
    "history = model.fit(\n",
    "    train_ds,\n",
    "    validation_data=val_ds,\n",
    "    epochs=EPOCHS,\n",
    "    callbacks=callbacks,\n",
    "    class_weight=class_weights\n",
    ")\n",
    "\n",
    "\n",
    "# Evaluate on the test set\n",
    "test_loss, test_accuracy = model.evaluate(test_ds)\n",
    "print(f\"Test Loss: {test_loss:.4f}, Test Accuracy: {test_accuracy:.4f}\")\n"
   ]
  },
  {
   "cell_type": "markdown",
   "metadata": {
    "id": "hBJr-uPFo_XT"
   },
   "source": [
    "Due to time constraints output was interrupted as results were improving and insights could already be taken."
   ]
  }
 ],
 "metadata": {
  "accelerator": "GPU",
  "colab": {
   "gpuType": "T4",
   "provenance": []
  },
  "kernelspec": {
   "display_name": "Python 3",
   "name": "python3"
  },
  "language_info": {
   "codemirror_mode": {
    "name": "ipython",
    "version": 3
   },
   "file_extension": ".py",
   "mimetype": "text/x-python",
   "name": "python",
   "nbconvert_exporter": "python",
   "pygments_lexer": "ipython3",
   "version": "3.11.11"
  }
 },
 "nbformat": 4,
 "nbformat_minor": 0
}
